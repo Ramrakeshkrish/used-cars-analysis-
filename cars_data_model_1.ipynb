{
 "cells": [
  {
   "cell_type": "code",
   "execution_count": 109,
   "id": "c2a42384-5851-45dd-b029-eb143b372159",
   "metadata": {
    "id": "c2a42384-5851-45dd-b029-eb143b372159"
   },
   "outputs": [],
   "source": [
    "import pandas as pd\n",
    "from sklearn.model_selection import train_test_split, GridSearchCV\n",
    "from sklearn.pipeline import Pipeline\n",
    "from sklearn.compose import ColumnTransformer\n",
    "from sklearn.preprocessing import StandardScaler, OneHotEncoder, MinMaxScaler\n",
    "from sklearn.linear_model import LinearRegression\n",
    "from sklearn.tree import DecisionTreeRegressor\n",
    "from sklearn.ensemble import RandomForestRegressor, AdaBoostRegressor\n",
    "from sklearn.feature_selection import RFE\n",
    "from sklearn.metrics import mean_squared_error, mean_absolute_error, r2_score\n",
    "import numpy as np\n",
    "import matplotlib.pyplot as plt\n",
    "import seaborn as sns\n",
    "import warnings\n",
    "warnings.filterwarnings(\"ignore\")"
   ]
  },
  {
   "cell_type": "code",
   "execution_count": 110,
   "id": "f384e2b0-7c69-4139-8cfa-0bc096e83e1f",
   "metadata": {
    "id": "f384e2b0-7c69-4139-8cfa-0bc096e83e1f"
   },
   "outputs": [],
   "source": [
    "import warnings\n",
    "warnings.filterwarnings(\"ignore\")"
   ]
  },
  {
   "cell_type": "code",
   "execution_count": 111,
   "id": "5a640f2d-16cc-4dde-b5d8-0f5c33976320",
   "metadata": {
    "id": "5a640f2d-16cc-4dde-b5d8-0f5c33976320"
   },
   "outputs": [],
   "source": [
    "dataset=pd.read_csv('/Users/jrudram/Downloads/extended_data.csv')"
   ]
  },
  {
   "cell_type": "markdown",
   "id": "dc0b4698-7297-4c3a-81d6-5730d0efe5b4",
   "metadata": {
    "id": "dc0b4698-7297-4c3a-81d6-5730d0efe5b4"
   },
   "source": [
    "## In the cars data all cars are used cars."
   ]
  },
  {
   "cell_type": "markdown",
   "id": "ed4e54da-e249-4c3c-9e1c-ecc646dca583",
   "metadata": {
    "id": "ed4e54da-e249-4c3c-9e1c-ecc646dca583"
   },
   "source": [
    "### 1.Model_year:This is year of Manufacturing of car.\n",
    "### 2.Brand : Name of car brand.\n",
    "### 3.Model: specific model of the car model.\n",
    "### 4.Type: type of the vehicle eg suv(sports utility vehicle)etc.\n",
    "### 5.mpg:Fuel efficiency of the car\n",
    "### 6.Premium_version: binary value for premium car or not\n",
    "### 7.Msrp:Price of the car (this is the target variable or dependent variable)\n",
    "### 8.Collection_car:Where the car is collection item or not by binary filed"
   ]
  },
  {
   "cell_type": "code",
   "execution_count": 112,
   "id": "395b8185-4ee2-4c01-85b9-32d2d9f24d22",
   "metadata": {
    "colab": {
     "base_uri": "https://localhost:8080/",
     "height": 419
    },
    "id": "395b8185-4ee2-4c01-85b9-32d2d9f24d22",
    "outputId": "f3779450-fbf7-4bfc-ae82-c71d2bdb5c2c"
   },
   "outputs": [
    {
     "data": {
      "text/html": [
       "<div>\n",
       "<style scoped>\n",
       "    .dataframe tbody tr th:only-of-type {\n",
       "        vertical-align: middle;\n",
       "    }\n",
       "\n",
       "    .dataframe tbody tr th {\n",
       "        vertical-align: top;\n",
       "    }\n",
       "\n",
       "    .dataframe thead th {\n",
       "        text-align: right;\n",
       "    }\n",
       "</style>\n",
       "<table border=\"1\" class=\"dataframe\">\n",
       "  <thead>\n",
       "    <tr style=\"text-align: right;\">\n",
       "      <th></th>\n",
       "      <th>model_year</th>\n",
       "      <th>brand</th>\n",
       "      <th>model</th>\n",
       "      <th>type</th>\n",
       "      <th>miles_per_gallon</th>\n",
       "      <th>premium_version</th>\n",
       "      <th>msrp</th>\n",
       "      <th>collection_car</th>\n",
       "    </tr>\n",
       "  </thead>\n",
       "  <tbody>\n",
       "    <tr>\n",
       "      <th>0</th>\n",
       "      <td>2016</td>\n",
       "      <td>Toyota</td>\n",
       "      <td>Land Cruiser Base</td>\n",
       "      <td>SUV</td>\n",
       "      <td>13.0</td>\n",
       "      <td>1</td>\n",
       "      <td>84900.0</td>\n",
       "      <td>0</td>\n",
       "    </tr>\n",
       "    <tr>\n",
       "      <th>1</th>\n",
       "      <td>2014</td>\n",
       "      <td>RAM</td>\n",
       "      <td>ProMaster 2500 Window Van High Roof</td>\n",
       "      <td>Van</td>\n",
       "      <td>15.0</td>\n",
       "      <td>0</td>\n",
       "      <td>35000.0</td>\n",
       "      <td>0</td>\n",
       "    </tr>\n",
       "    <tr>\n",
       "      <th>2</th>\n",
       "      <td>2002</td>\n",
       "      <td>Ford</td>\n",
       "      <td>Mustang GT</td>\n",
       "      <td>Coupe</td>\n",
       "      <td>16.0</td>\n",
       "      <td>0</td>\n",
       "      <td>26250.0</td>\n",
       "      <td>0</td>\n",
       "    </tr>\n",
       "    <tr>\n",
       "      <th>3</th>\n",
       "      <td>2012</td>\n",
       "      <td>BMW</td>\n",
       "      <td>428 Gran Coupe i xDrive</td>\n",
       "      <td>Sedan</td>\n",
       "      <td>27.0</td>\n",
       "      <td>1</td>\n",
       "      <td>45000.0</td>\n",
       "      <td>0</td>\n",
       "    </tr>\n",
       "    <tr>\n",
       "      <th>4</th>\n",
       "      <td>2008</td>\n",
       "      <td>Mercedes-Benz</td>\n",
       "      <td>SL-Class SL500 Roadster</td>\n",
       "      <td>Convertible</td>\n",
       "      <td>18.0</td>\n",
       "      <td>1</td>\n",
       "      <td>100000.0</td>\n",
       "      <td>1</td>\n",
       "    </tr>\n",
       "    <tr>\n",
       "      <th>...</th>\n",
       "      <td>...</td>\n",
       "      <td>...</td>\n",
       "      <td>...</td>\n",
       "      <td>...</td>\n",
       "      <td>...</td>\n",
       "      <td>...</td>\n",
       "      <td>...</td>\n",
       "      <td>...</td>\n",
       "    </tr>\n",
       "    <tr>\n",
       "      <th>28138</th>\n",
       "      <td>2017</td>\n",
       "      <td>Bentley</td>\n",
       "      <td>Huracan LP580-2S</td>\n",
       "      <td>Coupe</td>\n",
       "      <td>21.0</td>\n",
       "      <td>1</td>\n",
       "      <td>200000.0</td>\n",
       "      <td>1</td>\n",
       "    </tr>\n",
       "    <tr>\n",
       "      <th>28139</th>\n",
       "      <td>2001</td>\n",
       "      <td>Mazda</td>\n",
       "      <td>RX-8 Sport</td>\n",
       "      <td>Coupe</td>\n",
       "      <td>18.0</td>\n",
       "      <td>0</td>\n",
       "      <td>25000.0</td>\n",
       "      <td>0</td>\n",
       "    </tr>\n",
       "    <tr>\n",
       "      <th>28140</th>\n",
       "      <td>2018</td>\n",
       "      <td>Ford</td>\n",
       "      <td>Model X P100D</td>\n",
       "      <td>SUV</td>\n",
       "      <td>94.0</td>\n",
       "      <td>1</td>\n",
       "      <td>199000.0</td>\n",
       "      <td>1</td>\n",
       "    </tr>\n",
       "    <tr>\n",
       "      <th>28141</th>\n",
       "      <td>2022</td>\n",
       "      <td>Land</td>\n",
       "      <td>Rover Range Rover Velar P380 SE R-Dynamic</td>\n",
       "      <td>SUV</td>\n",
       "      <td>20.0</td>\n",
       "      <td>1</td>\n",
       "      <td>63700.0</td>\n",
       "      <td>0</td>\n",
       "    </tr>\n",
       "    <tr>\n",
       "      <th>28142</th>\n",
       "      <td>2020</td>\n",
       "      <td>Audi</td>\n",
       "      <td>A7 3.0T Prestige</td>\n",
       "      <td>Sedan</td>\n",
       "      <td>22.0</td>\n",
       "      <td>1</td>\n",
       "      <td>83500.0</td>\n",
       "      <td>0</td>\n",
       "    </tr>\n",
       "  </tbody>\n",
       "</table>\n",
       "<p>28143 rows × 8 columns</p>\n",
       "</div>"
      ],
      "text/plain": [
       "       model_year          brand                                      model  \\\n",
       "0            2016         Toyota                          Land Cruiser Base   \n",
       "1            2014            RAM        ProMaster 2500 Window Van High Roof   \n",
       "2            2002           Ford                                 Mustang GT   \n",
       "3            2012            BMW                    428 Gran Coupe i xDrive   \n",
       "4            2008  Mercedes-Benz                    SL-Class SL500 Roadster   \n",
       "...           ...            ...                                        ...   \n",
       "28138        2017        Bentley                           Huracan LP580-2S   \n",
       "28139        2001          Mazda                                 RX-8 Sport   \n",
       "28140        2018           Ford                              Model X P100D   \n",
       "28141        2022           Land  Rover Range Rover Velar P380 SE R-Dynamic   \n",
       "28142        2020           Audi                           A7 3.0T Prestige   \n",
       "\n",
       "              type  miles_per_gallon  premium_version      msrp  \\\n",
       "0              SUV              13.0                1   84900.0   \n",
       "1              Van              15.0                0   35000.0   \n",
       "2            Coupe              16.0                0   26250.0   \n",
       "3            Sedan              27.0                1   45000.0   \n",
       "4      Convertible              18.0                1  100000.0   \n",
       "...            ...               ...              ...       ...   \n",
       "28138        Coupe              21.0                1  200000.0   \n",
       "28139        Coupe              18.0                0   25000.0   \n",
       "28140          SUV              94.0                1  199000.0   \n",
       "28141          SUV              20.0                1   63700.0   \n",
       "28142        Sedan              22.0                1   83500.0   \n",
       "\n",
       "       collection_car  \n",
       "0                   0  \n",
       "1                   0  \n",
       "2                   0  \n",
       "3                   0  \n",
       "4                   1  \n",
       "...               ...  \n",
       "28138               1  \n",
       "28139               0  \n",
       "28140               1  \n",
       "28141               0  \n",
       "28142               0  \n",
       "\n",
       "[28143 rows x 8 columns]"
      ]
     },
     "execution_count": 112,
     "metadata": {},
     "output_type": "execute_result"
    }
   ],
   "source": [
    "dataset"
   ]
  },
  {
   "cell_type": "code",
   "execution_count": 113,
   "id": "95e938c5-2506-42ba-bcb7-d274575d531c",
   "metadata": {
    "colab": {
     "base_uri": "https://localhost:8080/",
     "height": 111
    },
    "id": "95e938c5-2506-42ba-bcb7-d274575d531c",
    "outputId": "a81941aa-504d-44d4-89f7-894b54f5c154"
   },
   "outputs": [
    {
     "data": {
      "text/html": [
       "<div>\n",
       "<style scoped>\n",
       "    .dataframe tbody tr th:only-of-type {\n",
       "        vertical-align: middle;\n",
       "    }\n",
       "\n",
       "    .dataframe tbody tr th {\n",
       "        vertical-align: top;\n",
       "    }\n",
       "\n",
       "    .dataframe thead th {\n",
       "        text-align: right;\n",
       "    }\n",
       "</style>\n",
       "<table border=\"1\" class=\"dataframe\">\n",
       "  <thead>\n",
       "    <tr style=\"text-align: right;\">\n",
       "      <th></th>\n",
       "      <th>model_year</th>\n",
       "      <th>brand</th>\n",
       "      <th>model</th>\n",
       "      <th>type</th>\n",
       "      <th>miles_per_gallon</th>\n",
       "      <th>premium_version</th>\n",
       "      <th>msrp</th>\n",
       "      <th>collection_car</th>\n",
       "    </tr>\n",
       "  </thead>\n",
       "  <tbody>\n",
       "    <tr>\n",
       "      <th>0</th>\n",
       "      <td>2016</td>\n",
       "      <td>Toyota</td>\n",
       "      <td>Land Cruiser Base</td>\n",
       "      <td>SUV</td>\n",
       "      <td>13.0</td>\n",
       "      <td>1</td>\n",
       "      <td>84900.0</td>\n",
       "      <td>0</td>\n",
       "    </tr>\n",
       "    <tr>\n",
       "      <th>1</th>\n",
       "      <td>2014</td>\n",
       "      <td>RAM</td>\n",
       "      <td>ProMaster 2500 Window Van High Roof</td>\n",
       "      <td>Van</td>\n",
       "      <td>15.0</td>\n",
       "      <td>0</td>\n",
       "      <td>35000.0</td>\n",
       "      <td>0</td>\n",
       "    </tr>\n",
       "  </tbody>\n",
       "</table>\n",
       "</div>"
      ],
      "text/plain": [
       "   model_year   brand                                model type  \\\n",
       "0        2016  Toyota                    Land Cruiser Base  SUV   \n",
       "1        2014     RAM  ProMaster 2500 Window Van High Roof  Van   \n",
       "\n",
       "   miles_per_gallon  premium_version     msrp  collection_car  \n",
       "0              13.0                1  84900.0               0  \n",
       "1              15.0                0  35000.0               0  "
      ]
     },
     "execution_count": 113,
     "metadata": {},
     "output_type": "execute_result"
    }
   ],
   "source": [
    "dataset.head(2)"
   ]
  },
  {
   "cell_type": "code",
   "execution_count": 114,
   "id": "bbf2a824-5b27-4f9b-bb43-8db46069abab",
   "metadata": {
    "colab": {
     "base_uri": "https://localhost:8080/",
     "height": 419
    },
    "id": "bbf2a824-5b27-4f9b-bb43-8db46069abab",
    "outputId": "caa9dec2-b263-4454-97d8-973572e18afe"
   },
   "outputs": [
    {
     "data": {
      "text/html": [
       "<div>\n",
       "<style scoped>\n",
       "    .dataframe tbody tr th:only-of-type {\n",
       "        vertical-align: middle;\n",
       "    }\n",
       "\n",
       "    .dataframe tbody tr th {\n",
       "        vertical-align: top;\n",
       "    }\n",
       "\n",
       "    .dataframe thead th {\n",
       "        text-align: right;\n",
       "    }\n",
       "</style>\n",
       "<table border=\"1\" class=\"dataframe\">\n",
       "  <thead>\n",
       "    <tr style=\"text-align: right;\">\n",
       "      <th></th>\n",
       "      <th>model_year</th>\n",
       "      <th>brand</th>\n",
       "      <th>model</th>\n",
       "      <th>type</th>\n",
       "      <th>miles_per_gallon</th>\n",
       "      <th>premium_version</th>\n",
       "      <th>msrp</th>\n",
       "      <th>collection_car</th>\n",
       "    </tr>\n",
       "  </thead>\n",
       "  <tbody>\n",
       "    <tr>\n",
       "      <th>0</th>\n",
       "      <td>2016</td>\n",
       "      <td>Toyota</td>\n",
       "      <td>Land Cruiser Base</td>\n",
       "      <td>SUV</td>\n",
       "      <td>13.0</td>\n",
       "      <td>1</td>\n",
       "      <td>84900.0</td>\n",
       "      <td>0</td>\n",
       "    </tr>\n",
       "    <tr>\n",
       "      <th>1</th>\n",
       "      <td>2014</td>\n",
       "      <td>RAM</td>\n",
       "      <td>ProMaster 2500 Window Van High Roof</td>\n",
       "      <td>Van</td>\n",
       "      <td>15.0</td>\n",
       "      <td>0</td>\n",
       "      <td>35000.0</td>\n",
       "      <td>0</td>\n",
       "    </tr>\n",
       "    <tr>\n",
       "      <th>2</th>\n",
       "      <td>2002</td>\n",
       "      <td>Ford</td>\n",
       "      <td>Mustang GT</td>\n",
       "      <td>Coupe</td>\n",
       "      <td>16.0</td>\n",
       "      <td>0</td>\n",
       "      <td>26250.0</td>\n",
       "      <td>0</td>\n",
       "    </tr>\n",
       "    <tr>\n",
       "      <th>3</th>\n",
       "      <td>2012</td>\n",
       "      <td>BMW</td>\n",
       "      <td>428 Gran Coupe i xDrive</td>\n",
       "      <td>Sedan</td>\n",
       "      <td>27.0</td>\n",
       "      <td>1</td>\n",
       "      <td>45000.0</td>\n",
       "      <td>0</td>\n",
       "    </tr>\n",
       "    <tr>\n",
       "      <th>4</th>\n",
       "      <td>2008</td>\n",
       "      <td>Mercedes-Benz</td>\n",
       "      <td>SL-Class SL500 Roadster</td>\n",
       "      <td>Convertible</td>\n",
       "      <td>18.0</td>\n",
       "      <td>1</td>\n",
       "      <td>100000.0</td>\n",
       "      <td>1</td>\n",
       "    </tr>\n",
       "    <tr>\n",
       "      <th>...</th>\n",
       "      <td>...</td>\n",
       "      <td>...</td>\n",
       "      <td>...</td>\n",
       "      <td>...</td>\n",
       "      <td>...</td>\n",
       "      <td>...</td>\n",
       "      <td>...</td>\n",
       "      <td>...</td>\n",
       "    </tr>\n",
       "    <tr>\n",
       "      <th>28137</th>\n",
       "      <td>2022</td>\n",
       "      <td>RAM</td>\n",
       "      <td>750 iL</td>\n",
       "      <td>Pickup</td>\n",
       "      <td>20.0</td>\n",
       "      <td>0</td>\n",
       "      <td>35000.0</td>\n",
       "      <td>0</td>\n",
       "    </tr>\n",
       "    <tr>\n",
       "      <th>28138</th>\n",
       "      <td>2017</td>\n",
       "      <td>Bentley</td>\n",
       "      <td>Huracan LP580-2S</td>\n",
       "      <td>Coupe</td>\n",
       "      <td>21.0</td>\n",
       "      <td>1</td>\n",
       "      <td>200000.0</td>\n",
       "      <td>1</td>\n",
       "    </tr>\n",
       "    <tr>\n",
       "      <th>28139</th>\n",
       "      <td>2001</td>\n",
       "      <td>Mazda</td>\n",
       "      <td>RX-8 Sport</td>\n",
       "      <td>Coupe</td>\n",
       "      <td>18.0</td>\n",
       "      <td>0</td>\n",
       "      <td>25000.0</td>\n",
       "      <td>0</td>\n",
       "    </tr>\n",
       "    <tr>\n",
       "      <th>28140</th>\n",
       "      <td>2018</td>\n",
       "      <td>Ford</td>\n",
       "      <td>Model X P100D</td>\n",
       "      <td>SUV</td>\n",
       "      <td>94.0</td>\n",
       "      <td>1</td>\n",
       "      <td>199000.0</td>\n",
       "      <td>1</td>\n",
       "    </tr>\n",
       "    <tr>\n",
       "      <th>28141</th>\n",
       "      <td>2022</td>\n",
       "      <td>Land</td>\n",
       "      <td>Rover Range Rover Velar P380 SE R-Dynamic</td>\n",
       "      <td>SUV</td>\n",
       "      <td>20.0</td>\n",
       "      <td>1</td>\n",
       "      <td>63700.0</td>\n",
       "      <td>0</td>\n",
       "    </tr>\n",
       "  </tbody>\n",
       "</table>\n",
       "<p>28142 rows × 8 columns</p>\n",
       "</div>"
      ],
      "text/plain": [
       "       model_year          brand                                      model  \\\n",
       "0            2016         Toyota                          Land Cruiser Base   \n",
       "1            2014            RAM        ProMaster 2500 Window Van High Roof   \n",
       "2            2002           Ford                                 Mustang GT   \n",
       "3            2012            BMW                    428 Gran Coupe i xDrive   \n",
       "4            2008  Mercedes-Benz                    SL-Class SL500 Roadster   \n",
       "...           ...            ...                                        ...   \n",
       "28137        2022            RAM                                     750 iL   \n",
       "28138        2017        Bentley                           Huracan LP580-2S   \n",
       "28139        2001          Mazda                                 RX-8 Sport   \n",
       "28140        2018           Ford                              Model X P100D   \n",
       "28141        2022           Land  Rover Range Rover Velar P380 SE R-Dynamic   \n",
       "\n",
       "              type  miles_per_gallon  premium_version      msrp  \\\n",
       "0              SUV              13.0                1   84900.0   \n",
       "1              Van              15.0                0   35000.0   \n",
       "2            Coupe              16.0                0   26250.0   \n",
       "3            Sedan              27.0                1   45000.0   \n",
       "4      Convertible              18.0                1  100000.0   \n",
       "...            ...               ...              ...       ...   \n",
       "28137       Pickup              20.0                0   35000.0   \n",
       "28138        Coupe              21.0                1  200000.0   \n",
       "28139        Coupe              18.0                0   25000.0   \n",
       "28140          SUV              94.0                1  199000.0   \n",
       "28141          SUV              20.0                1   63700.0   \n",
       "\n",
       "       collection_car  \n",
       "0                   0  \n",
       "1                   0  \n",
       "2                   0  \n",
       "3                   0  \n",
       "4                   1  \n",
       "...               ...  \n",
       "28137               0  \n",
       "28138               1  \n",
       "28139               0  \n",
       "28140               1  \n",
       "28141               0  \n",
       "\n",
       "[28142 rows x 8 columns]"
      ]
     },
     "execution_count": 114,
     "metadata": {},
     "output_type": "execute_result"
    }
   ],
   "source": [
    "dataset.iloc[:-1,:]"
   ]
  },
  {
   "cell_type": "code",
   "execution_count": 115,
   "id": "2dcd2936-0e7e-4043-94cf-a04469997c62",
   "metadata": {
    "colab": {
     "base_uri": "https://localhost:8080/"
    },
    "id": "2dcd2936-0e7e-4043-94cf-a04469997c62",
    "outputId": "346dde3f-1069-4935-955a-937c500ea6c3"
   },
   "outputs": [
    {
     "data": {
      "text/plain": [
       "Index(['model_year', 'brand', 'model', 'type', 'miles_per_gallon',\n",
       "       'premium_version', 'msrp', 'collection_car'],\n",
       "      dtype='object')"
      ]
     },
     "execution_count": 115,
     "metadata": {},
     "output_type": "execute_result"
    }
   ],
   "source": [
    "dataset.columns"
   ]
  },
  {
   "cell_type": "code",
   "execution_count": 116,
   "id": "ad73a637-4421-4c63-a687-aa10a0e1b580",
   "metadata": {
    "colab": {
     "base_uri": "https://localhost:8080/",
     "height": 331
    },
    "id": "ad73a637-4421-4c63-a687-aa10a0e1b580",
    "outputId": "60b5da6b-9cfd-4465-84cd-0867fb13c69b"
   },
   "outputs": [
    {
     "data": {
      "text/plain": [
       "model_year            int64\n",
       "brand                object\n",
       "model                object\n",
       "type                 object\n",
       "miles_per_gallon    float64\n",
       "premium_version       int64\n",
       "msrp                float64\n",
       "collection_car        int64\n",
       "dtype: object"
      ]
     },
     "execution_count": 116,
     "metadata": {},
     "output_type": "execute_result"
    }
   ],
   "source": [
    "dataset.dtypes"
   ]
  },
  {
   "cell_type": "code",
   "execution_count": 117,
   "id": "cadd596e-c9e5-4ee6-aa90-b713eb8bf748",
   "metadata": {
    "colab": {
     "base_uri": "https://localhost:8080/"
    },
    "id": "cadd596e-c9e5-4ee6-aa90-b713eb8bf748",
    "outputId": "75d2822d-44c9-4b08-a89b-3ce634c38246"
   },
   "outputs": [
    {
     "data": {
      "text/plain": [
       "Index(['model_year', 'miles_per_gallon', 'premium_version', 'msrp',\n",
       "       'collection_car'],\n",
       "      dtype='object')"
      ]
     },
     "execution_count": 117,
     "metadata": {},
     "output_type": "execute_result"
    }
   ],
   "source": [
    "dataset.select_dtypes(include=[\"int64\",\"float64\"]).columns"
   ]
  },
  {
   "cell_type": "code",
   "execution_count": 118,
   "id": "88938d93-194e-41b9-9361-48aeb7fe2b5a",
   "metadata": {
    "colab": {
     "base_uri": "https://localhost:8080/"
    },
    "id": "88938d93-194e-41b9-9361-48aeb7fe2b5a",
    "outputId": "70ac398b-7440-4e00-ef22-ed0b853d2cd2"
   },
   "outputs": [
    {
     "data": {
      "text/plain": [
       "Index(['brand', 'model', 'type'], dtype='object')"
      ]
     },
     "execution_count": 118,
     "metadata": {},
     "output_type": "execute_result"
    }
   ],
   "source": [
    "dataset.select_dtypes(include=\"object\").columns"
   ]
  },
  {
   "cell_type": "code",
   "execution_count": null,
   "id": "67b25711-0dcd-42bb-b478-0a7694216d9b",
   "metadata": {
    "id": "67b25711-0dcd-42bb-b478-0a7694216d9b"
   },
   "outputs": [],
   "source": []
  },
  {
   "cell_type": "code",
   "execution_count": 119,
   "id": "7b6ad591-db8a-4ed5-8e08-1742e854e63d",
   "metadata": {
    "colab": {
     "base_uri": "https://localhost:8080/"
    },
    "id": "7b6ad591-db8a-4ed5-8e08-1742e854e63d",
    "outputId": "4992696a-b5d1-4e17-dcb5-60e76603ceae"
   },
   "outputs": [
    {
     "data": {
      "text/plain": [
       "array([2016, 2014, 2002, 2012, 2008, 2013, 2021, 2017, 2019, 2020, 2023,\n",
       "       2018, 2004, 2022, 2015, 2009, 2011, 2010, 2001, 2007, 2005, 2000,\n",
       "       2003, 2006, 1999, 1997, 2024, 1993, 1994, 1998, 1995, 1996, 1992,\n",
       "       1974, 1982, 1988])"
      ]
     },
     "execution_count": 119,
     "metadata": {},
     "output_type": "execute_result"
    }
   ],
   "source": [
    "dataset[\"model_year\"].unique()"
   ]
  },
  {
   "cell_type": "code",
   "execution_count": 120,
   "id": "406cc404-90b9-4eb5-91e8-47de27ffc828",
   "metadata": {
    "colab": {
     "base_uri": "https://localhost:8080/"
    },
    "id": "406cc404-90b9-4eb5-91e8-47de27ffc828",
    "outputId": "940d177b-1237-4d5b-d5d9-8eadf924d87e"
   },
   "outputs": [
    {
     "data": {
      "text/plain": [
       "(28143, 8)"
      ]
     },
     "execution_count": 120,
     "metadata": {},
     "output_type": "execute_result"
    }
   ],
   "source": [
    "dataset.shape"
   ]
  },
  {
   "cell_type": "code",
   "execution_count": 121,
   "id": "4e88465e-4c08-4a66-98c3-1c1c413cacb4",
   "metadata": {
    "colab": {
     "base_uri": "https://localhost:8080/",
     "height": 204
    },
    "id": "4e88465e-4c08-4a66-98c3-1c1c413cacb4",
    "outputId": "9a792f4b-21f0-4605-dbd3-1f5103d2bf19"
   },
   "outputs": [
    {
     "data": {
      "text/html": [
       "<div>\n",
       "<style scoped>\n",
       "    .dataframe tbody tr th:only-of-type {\n",
       "        vertical-align: middle;\n",
       "    }\n",
       "\n",
       "    .dataframe tbody tr th {\n",
       "        vertical-align: top;\n",
       "    }\n",
       "\n",
       "    .dataframe thead th {\n",
       "        text-align: right;\n",
       "    }\n",
       "</style>\n",
       "<table border=\"1\" class=\"dataframe\">\n",
       "  <thead>\n",
       "    <tr style=\"text-align: right;\">\n",
       "      <th></th>\n",
       "      <th>model_year</th>\n",
       "      <th>brand</th>\n",
       "      <th>model</th>\n",
       "      <th>type</th>\n",
       "      <th>miles_per_gallon</th>\n",
       "      <th>premium_version</th>\n",
       "      <th>msrp</th>\n",
       "      <th>collection_car</th>\n",
       "    </tr>\n",
       "  </thead>\n",
       "  <tbody>\n",
       "    <tr>\n",
       "      <th>0</th>\n",
       "      <td>2016</td>\n",
       "      <td>Toyota</td>\n",
       "      <td>Land Cruiser Base</td>\n",
       "      <td>SUV</td>\n",
       "      <td>13.0</td>\n",
       "      <td>1</td>\n",
       "      <td>84900.0</td>\n",
       "      <td>0</td>\n",
       "    </tr>\n",
       "    <tr>\n",
       "      <th>1</th>\n",
       "      <td>2014</td>\n",
       "      <td>RAM</td>\n",
       "      <td>ProMaster 2500 Window Van High Roof</td>\n",
       "      <td>Van</td>\n",
       "      <td>15.0</td>\n",
       "      <td>0</td>\n",
       "      <td>35000.0</td>\n",
       "      <td>0</td>\n",
       "    </tr>\n",
       "    <tr>\n",
       "      <th>2</th>\n",
       "      <td>2002</td>\n",
       "      <td>Ford</td>\n",
       "      <td>Mustang GT</td>\n",
       "      <td>Coupe</td>\n",
       "      <td>16.0</td>\n",
       "      <td>0</td>\n",
       "      <td>26250.0</td>\n",
       "      <td>0</td>\n",
       "    </tr>\n",
       "    <tr>\n",
       "      <th>3</th>\n",
       "      <td>2012</td>\n",
       "      <td>BMW</td>\n",
       "      <td>428 Gran Coupe i xDrive</td>\n",
       "      <td>Sedan</td>\n",
       "      <td>27.0</td>\n",
       "      <td>1</td>\n",
       "      <td>45000.0</td>\n",
       "      <td>0</td>\n",
       "    </tr>\n",
       "    <tr>\n",
       "      <th>4</th>\n",
       "      <td>2008</td>\n",
       "      <td>Mercedes-Benz</td>\n",
       "      <td>SL-Class SL500 Roadster</td>\n",
       "      <td>Convertible</td>\n",
       "      <td>18.0</td>\n",
       "      <td>1</td>\n",
       "      <td>100000.0</td>\n",
       "      <td>1</td>\n",
       "    </tr>\n",
       "  </tbody>\n",
       "</table>\n",
       "</div>"
      ],
      "text/plain": [
       "   model_year          brand                                model  \\\n",
       "0        2016         Toyota                    Land Cruiser Base   \n",
       "1        2014            RAM  ProMaster 2500 Window Van High Roof   \n",
       "2        2002           Ford                           Mustang GT   \n",
       "3        2012            BMW              428 Gran Coupe i xDrive   \n",
       "4        2008  Mercedes-Benz              SL-Class SL500 Roadster   \n",
       "\n",
       "          type  miles_per_gallon  premium_version      msrp  collection_car  \n",
       "0          SUV              13.0                1   84900.0               0  \n",
       "1          Van              15.0                0   35000.0               0  \n",
       "2        Coupe              16.0                0   26250.0               0  \n",
       "3        Sedan              27.0                1   45000.0               0  \n",
       "4  Convertible              18.0                1  100000.0               1  "
      ]
     },
     "execution_count": 121,
     "metadata": {},
     "output_type": "execute_result"
    }
   ],
   "source": [
    "dataset.head()"
   ]
  },
  {
   "cell_type": "markdown",
   "id": "bc0e2a89-43ef-4c90-be98-b6bf78caac3b",
   "metadata": {
    "id": "bc0e2a89-43ef-4c90-be98-b6bf78caac3b"
   },
   "source": [
    "# Data preprocessing"
   ]
  },
  {
   "cell_type": "code",
   "execution_count": 122,
   "id": "4939204e-4621-4818-90dd-1b9ddd0219c1",
   "metadata": {
    "colab": {
     "base_uri": "https://localhost:8080/"
    },
    "id": "4939204e-4621-4818-90dd-1b9ddd0219c1",
    "outputId": "75c64c4a-a9c0-489d-d792-67ae839cc319"
   },
   "outputs": [
    {
     "data": {
      "text/plain": [
       "2"
      ]
     },
     "execution_count": 122,
     "metadata": {},
     "output_type": "execute_result"
    }
   ],
   "source": [
    "dataset.isnull().any().sum()"
   ]
  },
  {
   "cell_type": "markdown",
   "id": "26a830b9-f449-465a-bde8-a0167fbfd531",
   "metadata": {
    "id": "26a830b9-f449-465a-bde8-a0167fbfd531"
   },
   "source": [
    "### There are only two null values in the dataset"
   ]
  },
  {
   "cell_type": "code",
   "execution_count": 123,
   "id": "ba046f14-d9d1-4734-a735-48afe8fc7c37",
   "metadata": {
    "colab": {
     "base_uri": "https://localhost:8080/",
     "height": 331
    },
    "id": "ba046f14-d9d1-4734-a735-48afe8fc7c37",
    "outputId": "0edc1de0-c6bd-4e68-cae7-1c762a0ef89b"
   },
   "outputs": [
    {
     "data": {
      "text/plain": [
       "model_year          False\n",
       "brand               False\n",
       "model               False\n",
       "type                False\n",
       "miles_per_gallon     True\n",
       "premium_version     False\n",
       "msrp                 True\n",
       "collection_car      False\n",
       "dtype: bool"
      ]
     },
     "execution_count": 123,
     "metadata": {},
     "output_type": "execute_result"
    }
   ],
   "source": [
    "dataset.isnull().any()"
   ]
  },
  {
   "cell_type": "markdown",
   "id": "10789d5f-8eef-480a-a84a-4bfd1d468fb0",
   "metadata": {
    "id": "10789d5f-8eef-480a-a84a-4bfd1d468fb0"
   },
   "source": [
    "### only in the columns miles_per_gallon and msrp"
   ]
  },
  {
   "cell_type": "code",
   "execution_count": 124,
   "id": "7770d66c-7cff-4fa4-bf44-5008afce020a",
   "metadata": {
    "id": "7770d66c-7cff-4fa4-bf44-5008afce020a"
   },
   "outputs": [],
   "source": [
    "from sklearn.impute import SimpleImputer\n",
    "s=SimpleImputer(strategy='mean')\n",
    "dataset['miles_per_gallon']=s.fit_transform(dataset[['miles_per_gallon']])\n",
    "dataset['msrp']=s.fit_transform(dataset[['msrp']])"
   ]
  },
  {
   "cell_type": "code",
   "execution_count": 125,
   "id": "ca314369-9bdb-47d5-95eb-cb56247ee39a",
   "metadata": {
    "colab": {
     "base_uri": "https://localhost:8080/",
     "height": 331
    },
    "id": "ca314369-9bdb-47d5-95eb-cb56247ee39a",
    "outputId": "7e0ac831-e063-428f-ff08-faad3505ade4"
   },
   "outputs": [
    {
     "data": {
      "text/plain": [
       "model_year          0\n",
       "brand               0\n",
       "model               0\n",
       "type                0\n",
       "miles_per_gallon    0\n",
       "premium_version     0\n",
       "msrp                0\n",
       "collection_car      0\n",
       "dtype: int64"
      ]
     },
     "execution_count": 125,
     "metadata": {},
     "output_type": "execute_result"
    }
   ],
   "source": [
    "dataset.isnull().sum()"
   ]
  },
  {
   "cell_type": "markdown",
   "id": "0e7a4276-e8dd-4e27-a0af-6ca46e64152c",
   "metadata": {
    "id": "0e7a4276-e8dd-4e27-a0af-6ca46e64152c"
   },
   "source": [
    "### All the null values are imputed by mean"
   ]
  },
  {
   "cell_type": "code",
   "execution_count": 126,
   "id": "9d91bbdf-8026-4774-a58a-b01ed3a5ba23",
   "metadata": {
    "id": "9d91bbdf-8026-4774-a58a-b01ed3a5ba23"
   },
   "outputs": [],
   "source": [
    "dataset.dropna(how=\"all\", inplace=True)"
   ]
  },
  {
   "cell_type": "markdown",
   "id": "45a03e32-a5c0-43ef-9eaa-e86fa6a96c01",
   "metadata": {
    "id": "45a03e32-a5c0-43ef-9eaa-e86fa6a96c01"
   },
   "source": [
    "### Now checking the ouliers in the data"
   ]
  },
  {
   "cell_type": "code",
   "execution_count": 127,
   "id": "7d6186f0-4655-4355-be15-17bd53026fd7",
   "metadata": {
    "colab": {
     "base_uri": "https://localhost:8080/",
     "height": 526
    },
    "id": "7d6186f0-4655-4355-be15-17bd53026fd7",
    "outputId": "e28e97d4-48f8-4f19-eb93-907fd9ffbb23"
   },
   "outputs": [
    {
     "data": {
      "image/png": "[encoded data removed]",
      "text/plain": [
       "<Figure size 640x480 with 1 Axes>"
      ]
     },
     "metadata": {},
     "output_type": "display_data"
    }
   ],
   "source": [
    "dataset.boxplot()\n",
    "plt.xticks(rotation=45)\n",
    "plt.show()"
   ]
  },
  {
   "cell_type": "markdown",
   "id": "76d53578-cf9a-44ac-8ff6-1af8c5b1508f",
   "metadata": {
    "id": "76d53578-cf9a-44ac-8ff6-1af8c5b1508f"
   },
   "source": [
    "### Only one column that is outliers are present that is msrp"
   ]
  },
  {
   "cell_type": "code",
   "execution_count": 128,
   "id": "6258a30f-f2ac-478d-805d-47534ba85924",
   "metadata": {
    "id": "6258a30f-f2ac-478d-805d-47534ba85924"
   },
   "outputs": [],
   "source": [
    "def handling_outlier(dataset, columns):\n",
    "    for column in columns:\n",
    "        q1 = dataset[column].quantile(0.25)\n",
    "        q3 = dataset[column].quantile(0.75)\n",
    "        IQR = q3 - q1\n",
    "        upper_boundary = q3 + (1.5 * IQR)\n",
    "        lower_boundary = q1 - (1.5 * IQR)\n",
    "        dataset[column] = dataset[column].apply(\n",
    "            lambda x: upper_boundary if x > upper_boundary else (lower_boundary if x < lower_boundary else x)\n",
    "        )\n",
    "    return dataset"
   ]
  },
  {
   "cell_type": "code",
   "execution_count": null,
   "id": "3c5457d1-06b7-4dbc-9912-7f2053cf3f94",
   "metadata": {
    "id": "3c5457d1-06b7-4dbc-9912-7f2053cf3f94"
   },
   "outputs": [],
   "source": []
  },
  {
   "cell_type": "code",
   "execution_count": 129,
   "id": "61ebba65-1f3b-4fcb-9414-329b2ea4b5e4",
   "metadata": {
    "colab": {
     "base_uri": "https://localhost:8080/",
     "height": 111
    },
    "id": "61ebba65-1f3b-4fcb-9414-329b2ea4b5e4",
    "outputId": "23be3ff7-3b21-4375-efe1-b4fa2ea9ae4c"
   },
   "outputs": [
    {
     "data": {
      "text/html": [
       "<div>\n",
       "<style scoped>\n",
       "    .dataframe tbody tr th:only-of-type {\n",
       "        vertical-align: middle;\n",
       "    }\n",
       "\n",
       "    .dataframe tbody tr th {\n",
       "        vertical-align: top;\n",
       "    }\n",
       "\n",
       "    .dataframe thead th {\n",
       "        text-align: right;\n",
       "    }\n",
       "</style>\n",
       "<table border=\"1\" class=\"dataframe\">\n",
       "  <thead>\n",
       "    <tr style=\"text-align: right;\">\n",
       "      <th></th>\n",
       "      <th>model_year</th>\n",
       "      <th>brand</th>\n",
       "      <th>model</th>\n",
       "      <th>type</th>\n",
       "      <th>miles_per_gallon</th>\n",
       "      <th>premium_version</th>\n",
       "      <th>msrp</th>\n",
       "      <th>collection_car</th>\n",
       "    </tr>\n",
       "  </thead>\n",
       "  <tbody>\n",
       "    <tr>\n",
       "      <th>0</th>\n",
       "      <td>2016</td>\n",
       "      <td>Toyota</td>\n",
       "      <td>Land Cruiser Base</td>\n",
       "      <td>SUV</td>\n",
       "      <td>13.0</td>\n",
       "      <td>1</td>\n",
       "      <td>84900.0</td>\n",
       "      <td>0</td>\n",
       "    </tr>\n",
       "    <tr>\n",
       "      <th>1</th>\n",
       "      <td>2014</td>\n",
       "      <td>RAM</td>\n",
       "      <td>ProMaster 2500 Window Van High Roof</td>\n",
       "      <td>Van</td>\n",
       "      <td>15.0</td>\n",
       "      <td>0</td>\n",
       "      <td>35000.0</td>\n",
       "      <td>0</td>\n",
       "    </tr>\n",
       "  </tbody>\n",
       "</table>\n",
       "</div>"
      ],
      "text/plain": [
       "   model_year   brand                                model type  \\\n",
       "0        2016  Toyota                    Land Cruiser Base  SUV   \n",
       "1        2014     RAM  ProMaster 2500 Window Van High Roof  Van   \n",
       "\n",
       "   miles_per_gallon  premium_version     msrp  collection_car  \n",
       "0              13.0                1  84900.0               0  \n",
       "1              15.0                0  35000.0               0  "
      ]
     },
     "execution_count": 129,
     "metadata": {},
     "output_type": "execute_result"
    }
   ],
   "source": [
    "dataset.head(2)"
   ]
  },
  {
   "cell_type": "code",
   "execution_count": 130,
   "id": "26b4067e-428c-447e-9beb-2e8ebcceb8af",
   "metadata": {
    "id": "26b4067e-428c-447e-9beb-2e8ebcceb8af"
   },
   "outputs": [],
   "source": [
    "new_data=handling_outlier(dataset,['msrp'])\n"
   ]
  },
  {
   "cell_type": "code",
   "execution_count": 131,
   "id": "d18b8bb9-f418-43e7-8314-bc331ee2f5f4",
   "metadata": {
    "colab": {
     "base_uri": "https://localhost:8080/",
     "height": 433
    },
    "id": "d18b8bb9-f418-43e7-8314-bc331ee2f5f4",
    "outputId": "afcea439-7403-4639-d5d5-93b0806bc68d"
   },
   "outputs": [
    {
     "data": {
      "image/png": "[encoded data removed]",
      "text/plain": [
       "<Figure size 640x480 with 1 Axes>"
      ]
     },
     "metadata": {},
     "output_type": "display_data"
    }
   ],
   "source": [
    "new_data.boxplot()\n",
    "plt.show()"
   ]
  },
  {
   "cell_type": "markdown",
   "id": "c411c353-5bf5-43ed-8879-b86f3a3bcb4d",
   "metadata": {
    "id": "c411c353-5bf5-43ed-8879-b86f3a3bcb4d"
   },
   "source": [
    "### All the outliers are removed from the data"
   ]
  },
  {
   "cell_type": "code",
   "execution_count": 132,
   "id": "e09f448f-e77e-42ee-af4e-0e1d336f79f9",
   "metadata": {
    "colab": {
     "base_uri": "https://localhost:8080/",
     "height": 433
    },
    "id": "e09f448f-e77e-42ee-af4e-0e1d336f79f9",
    "outputId": "51cd4e6d-bdee-420d-a0e5-6708d821218f"
   },
   "outputs": [
    {
     "data": {
      "image/png": "[encoded data removed]",
      "text/plain": [
       "<Figure size 640x480 with 1 Axes>"
      ]
     },
     "metadata": {},
     "output_type": "display_data"
    }
   ],
   "source": [
    "dataset.boxplot()\n",
    "plt.show()"
   ]
  },
  {
   "cell_type": "code",
   "execution_count": 133,
   "id": "1d4af588-ada1-4096-ba57-7023c02bb072",
   "metadata": {
    "colab": {
     "base_uri": "https://localhost:8080/"
    },
    "id": "1d4af588-ada1-4096-ba57-7023c02bb072",
    "outputId": "2246d37c-41dd-4ee1-ca04-c2543e601264"
   },
   "outputs": [
    {
     "data": {
      "text/plain": [
       "Index(['brand', 'model', 'type'], dtype='object')"
      ]
     },
     "execution_count": 133,
     "metadata": {},
     "output_type": "execute_result"
    }
   ],
   "source": [
    "dataset.select_dtypes(include='object').columns"
   ]
  },
  {
   "cell_type": "code",
   "execution_count": 134,
   "id": "8f4ff478-3c4f-4ba1-afa9-78fd17e68a50",
   "metadata": {
    "colab": {
     "base_uri": "https://localhost:8080/",
     "height": 484
    },
    "id": "8f4ff478-3c4f-4ba1-afa9-78fd17e68a50",
    "outputId": "76dda610-3c6b-4503-e3aa-964d209e72f8"
   },
   "outputs": [
    {
     "data": {
      "text/plain": [
       "brand    model                  type       \n",
       "Toyota   Land Cruiser Base      SUV            33\n",
       "Jeep     Wrangler Sport         SUV            32\n",
       "Ford     Mustang GT             Coupe          30\n",
       "Honda    Civic EX               Sedan          30\n",
       "Porsche  911 Carrera Cabriolet  Convertible    29\n",
       "                                               ..\n",
       "Honda    RX 350 Base            SUV             1\n",
       "         Rogue SV               SUV             1\n",
       "         S2000 Base             Coupe           1\n",
       "         SLK-Class SLK320       Convertible     1\n",
       "smart    Nautilus Reserve       SUV             1\n",
       "Name: count, Length: 4712, dtype: int64"
      ]
     },
     "execution_count": 134,
     "metadata": {},
     "output_type": "execute_result"
    }
   ],
   "source": [
    "dataset.select_dtypes(include='object').value_counts()"
   ]
  },
  {
   "cell_type": "code",
   "execution_count": 135,
   "id": "6523ccc3-cf93-48e4-a6d5-cf79f29fc9e5",
   "metadata": {
    "colab": {
     "base_uri": "https://localhost:8080/",
     "height": 1000
    },
    "id": "6523ccc3-cf93-48e4-a6d5-cf79f29fc9e5",
    "outputId": "7f359946-bc9b-49d2-f432-d214a5f787bf"
   },
   "outputs": [
    {
     "data": {
      "text/plain": [
       "brand\n",
       "Ford             2448\n",
       "Chevrolet        1950\n",
       "Mercedes-Benz    1918\n",
       "BMW              1902\n",
       "Toyota           1715\n",
       "Audi             1553\n",
       "Porsche          1341\n",
       "Nissan           1094\n",
       "Lexus             969\n",
       "Land              948\n",
       "Dodge             833\n",
       "Cadillac          810\n",
       "Jeep              791\n",
       "Mazda             670\n",
       "Acura             661\n",
       "Volkswagen        640\n",
       "GMC               602\n",
       "Subaru            583\n",
       "Honda             562\n",
       "Hyundai           554\n",
       "Kia               527\n",
       "Lincoln           472\n",
       "INFINITI          471\n",
       "RAM               399\n",
       "Jaguar            369\n",
       "Volvo             341\n",
       "Tesla             290\n",
       "Chrysler          265\n",
       "Bentley           237\n",
       "Maserati          234\n",
       "Mitsubishi        233\n",
       "Buick             230\n",
       "Lamborghini       223\n",
       "Genesis           184\n",
       "Ferrari           152\n",
       "MINI              142\n",
       "Pontiac           135\n",
       "Aston              91\n",
       "Rolls-Royce        84\n",
       "Alfa               77\n",
       "Scion              60\n",
       "Hummer             55\n",
       "McLaren            46\n",
       "FIAT               44\n",
       "Saturn             44\n",
       "Lotus              43\n",
       "Rivian             33\n",
       "Mercury            29\n",
       "Lucid              23\n",
       "Saab               21\n",
       "Karma              10\n",
       "Maybach             9\n",
       "Suzuki              8\n",
       "Plymouth            7\n",
       "Bugatti             4\n",
       "Polestar            4\n",
       "smart               3\n",
       "Name: count, dtype: int64"
      ]
     },
     "execution_count": 135,
     "metadata": {},
     "output_type": "execute_result"
    }
   ],
   "source": [
    "dataset['brand'].value_counts()\n"
   ]
  },
  {
   "cell_type": "code",
   "execution_count": 136,
   "id": "ec1e35e1-106e-4183-b282-a6ef665322de",
   "metadata": {
    "colab": {
     "base_uri": "https://localhost:8080/",
     "height": 484
    },
    "id": "ec1e35e1-106e-4183-b282-a6ef665322de",
    "outputId": "2714e271-1e7b-4a32-fccd-b6746d814aa7"
   },
   "outputs": [
    {
     "data": {
      "text/plain": [
       "model\n",
       "M3 Base                         64\n",
       "Wrangler Sport                  52\n",
       "M4 Base                         44\n",
       "GT-R Premium                    44\n",
       "911 Carrera                     41\n",
       "                                ..\n",
       "X5 eDrive xDrive40e              2\n",
       "V60 T6 R-Design Platinum         2\n",
       "X5 xDrive 35i Sport Activity     2\n",
       "allroad 2.7T                     1\n",
       "X5 3.0i                          1\n",
       "Name: count, Length: 1898, dtype: int64"
      ]
     },
     "execution_count": 136,
     "metadata": {},
     "output_type": "execute_result"
    }
   ],
   "source": [
    "dataset['model'].value_counts()\n"
   ]
  },
  {
   "cell_type": "code",
   "execution_count": 137,
   "id": "5cf0314c-46af-4ae1-8ac3-114cf9575d58",
   "metadata": {
    "colab": {
     "base_uri": "https://localhost:8080/",
     "height": 393
    },
    "id": "5cf0314c-46af-4ae1-8ac3-114cf9575d58",
    "outputId": "86c35862-3f04-472b-bf37-77fc576efbd3"
   },
   "outputs": [
    {
     "data": {
      "text/plain": [
       "type\n",
       "SUV            9978\n",
       "Sedan          8125\n",
       "Coupe          4163\n",
       "Pickup         2961\n",
       "Convertible    1310\n",
       "Hatchback       759\n",
       "Minivan         547\n",
       "Van             294\n",
       "Wagon             6\n",
       "Name: count, dtype: int64"
      ]
     },
     "execution_count": 137,
     "metadata": {},
     "output_type": "execute_result"
    }
   ],
   "source": [
    "dataset['type'].value_counts()\n"
   ]
  },
  {
   "cell_type": "markdown",
   "id": "e3318316-ecf4-4319-9e34-4d95a037c035",
   "metadata": {
    "id": "e3318316-ecf4-4319-9e34-4d95a037c035"
   },
   "source": [
    "## EDA on the data"
   ]
  },
  {
   "cell_type": "markdown",
   "id": "c1806874-638f-4aa2-bb62-2f8cbd5f6e5c",
   "metadata": {
    "id": "c1806874-638f-4aa2-bb62-2f8cbd5f6e5c"
   },
   "source": [
    "#### univariet analysis"
   ]
  },
  {
   "cell_type": "code",
   "execution_count": 138,
   "id": "647f63ce-3105-4a62-8ebf-7510c705a80d",
   "metadata": {
    "colab": {
     "base_uri": "https://localhost:8080/",
     "height": 502
    },
    "id": "647f63ce-3105-4a62-8ebf-7510c705a80d",
    "outputId": "9db251e8-4e13-4130-d7c1-6c56f8e8e34d"
   },
   "outputs": [
    {
     "data": {
      "image/png": "[encoded data removed]",
      "text/plain": [
       "<Figure size 640x480 with 1 Axes>"
      ]
     },
     "metadata": {},
     "output_type": "display_data"
    }
   ],
   "source": [
    "sns.countplot(dataset,x='type', palette=['#FFA500'])\n",
    "plt.xticks(rotation=45)\n",
    "plt.show()"
   ]
  },
  {
   "cell_type": "markdown",
   "id": "d973424d-ffba-4930-83e6-b6cbec747ab1",
   "metadata": {
    "id": "d973424d-ffba-4930-83e6-b6cbec747ab1"
   },
   "source": [
    "### Most of the cars are type of SUV are selling the market"
   ]
  },
  {
   "cell_type": "code",
   "execution_count": 139,
   "id": "ce315ff5-c255-4715-841a-a7a4e554a481",
   "metadata": {
    "colab": {
     "base_uri": "https://localhost:8080/",
     "height": 390
    },
    "id": "ce315ff5-c255-4715-841a-a7a4e554a481",
    "outputId": "9b5b721c-8abd-4fca-a31a-80ae6d09b837"
   },
   "outputs": [
    {
     "data": {
      "text/html": [
       "<div>\n",
       "<style scoped>\n",
       "    .dataframe tbody tr th:only-of-type {\n",
       "        vertical-align: middle;\n",
       "    }\n",
       "\n",
       "    .dataframe tbody tr th {\n",
       "        vertical-align: top;\n",
       "    }\n",
       "\n",
       "    .dataframe thead th {\n",
       "        text-align: right;\n",
       "    }\n",
       "</style>\n",
       "<table border=\"1\" class=\"dataframe\">\n",
       "  <thead>\n",
       "    <tr style=\"text-align: right;\">\n",
       "      <th></th>\n",
       "      <th>model_year</th>\n",
       "      <th>brand</th>\n",
       "      <th>model</th>\n",
       "      <th>type</th>\n",
       "      <th>miles_per_gallon</th>\n",
       "      <th>premium_version</th>\n",
       "      <th>msrp</th>\n",
       "      <th>collection_car</th>\n",
       "    </tr>\n",
       "  </thead>\n",
       "  <tbody>\n",
       "    <tr>\n",
       "      <th>count</th>\n",
       "      <td>28143.000000</td>\n",
       "      <td>28143</td>\n",
       "      <td>28143</td>\n",
       "      <td>28143</td>\n",
       "      <td>28143.000000</td>\n",
       "      <td>28143.000000</td>\n",
       "      <td>28143.000000</td>\n",
       "      <td>28143.000000</td>\n",
       "    </tr>\n",
       "    <tr>\n",
       "      <th>unique</th>\n",
       "      <td>NaN</td>\n",
       "      <td>57</td>\n",
       "      <td>1898</td>\n",
       "      <td>9</td>\n",
       "      <td>NaN</td>\n",
       "      <td>NaN</td>\n",
       "      <td>NaN</td>\n",
       "      <td>NaN</td>\n",
       "    </tr>\n",
       "    <tr>\n",
       "      <th>top</th>\n",
       "      <td>NaN</td>\n",
       "      <td>Ford</td>\n",
       "      <td>M3 Base</td>\n",
       "      <td>SUV</td>\n",
       "      <td>NaN</td>\n",
       "      <td>NaN</td>\n",
       "      <td>NaN</td>\n",
       "      <td>NaN</td>\n",
       "    </tr>\n",
       "    <tr>\n",
       "      <th>freq</th>\n",
       "      <td>NaN</td>\n",
       "      <td>2448</td>\n",
       "      <td>64</td>\n",
       "      <td>9978</td>\n",
       "      <td>NaN</td>\n",
       "      <td>NaN</td>\n",
       "      <td>NaN</td>\n",
       "      <td>NaN</td>\n",
       "    </tr>\n",
       "    <tr>\n",
       "      <th>mean</th>\n",
       "      <td>2013.456774</td>\n",
       "      <td>NaN</td>\n",
       "      <td>NaN</td>\n",
       "      <td>NaN</td>\n",
       "      <td>21.769242</td>\n",
       "      <td>0.533525</td>\n",
       "      <td>50591.865616</td>\n",
       "      <td>0.137299</td>\n",
       "    </tr>\n",
       "    <tr>\n",
       "      <th>std</th>\n",
       "      <td>6.847536</td>\n",
       "      <td>NaN</td>\n",
       "      <td>NaN</td>\n",
       "      <td>NaN</td>\n",
       "      <td>13.468108</td>\n",
       "      <td>0.498884</td>\n",
       "      <td>28133.817673</td>\n",
       "      <td>0.344169</td>\n",
       "    </tr>\n",
       "    <tr>\n",
       "      <th>min</th>\n",
       "      <td>1974.000000</td>\n",
       "      <td>NaN</td>\n",
       "      <td>NaN</td>\n",
       "      <td>NaN</td>\n",
       "      <td>-1.000000</td>\n",
       "      <td>0.000000</td>\n",
       "      <td>0.000000</td>\n",
       "      <td>0.000000</td>\n",
       "    </tr>\n",
       "    <tr>\n",
       "      <th>25%</th>\n",
       "      <td>2009.000000</td>\n",
       "      <td>NaN</td>\n",
       "      <td>NaN</td>\n",
       "      <td>NaN</td>\n",
       "      <td>17.000000</td>\n",
       "      <td>0.000000</td>\n",
       "      <td>30000.000000</td>\n",
       "      <td>0.000000</td>\n",
       "    </tr>\n",
       "    <tr>\n",
       "      <th>50%</th>\n",
       "      <td>2015.000000</td>\n",
       "      <td>NaN</td>\n",
       "      <td>NaN</td>\n",
       "      <td>NaN</td>\n",
       "      <td>20.000000</td>\n",
       "      <td>1.000000</td>\n",
       "      <td>41370.000000</td>\n",
       "      <td>0.000000</td>\n",
       "    </tr>\n",
       "    <tr>\n",
       "      <th>75%</th>\n",
       "      <td>2019.000000</td>\n",
       "      <td>NaN</td>\n",
       "      <td>NaN</td>\n",
       "      <td>NaN</td>\n",
       "      <td>24.000000</td>\n",
       "      <td>1.000000</td>\n",
       "      <td>64000.000000</td>\n",
       "      <td>0.000000</td>\n",
       "    </tr>\n",
       "    <tr>\n",
       "      <th>max</th>\n",
       "      <td>2024.000000</td>\n",
       "      <td>NaN</td>\n",
       "      <td>NaN</td>\n",
       "      <td>NaN</td>\n",
       "      <td>234.000000</td>\n",
       "      <td>1.000000</td>\n",
       "      <td>115000.000000</td>\n",
       "      <td>1.000000</td>\n",
       "    </tr>\n",
       "  </tbody>\n",
       "</table>\n",
       "</div>"
      ],
      "text/plain": [
       "          model_year  brand    model   type  miles_per_gallon  \\\n",
       "count   28143.000000  28143    28143  28143      28143.000000   \n",
       "unique           NaN     57     1898      9               NaN   \n",
       "top              NaN   Ford  M3 Base    SUV               NaN   \n",
       "freq             NaN   2448       64   9978               NaN   \n",
       "mean     2013.456774    NaN      NaN    NaN         21.769242   \n",
       "std         6.847536    NaN      NaN    NaN         13.468108   \n",
       "min      1974.000000    NaN      NaN    NaN         -1.000000   \n",
       "25%      2009.000000    NaN      NaN    NaN         17.000000   \n",
       "50%      2015.000000    NaN      NaN    NaN         20.000000   \n",
       "75%      2019.000000    NaN      NaN    NaN         24.000000   \n",
       "max      2024.000000    NaN      NaN    NaN        234.000000   \n",
       "\n",
       "        premium_version           msrp  collection_car  \n",
       "count      28143.000000   28143.000000    28143.000000  \n",
       "unique              NaN            NaN             NaN  \n",
       "top                 NaN            NaN             NaN  \n",
       "freq                NaN            NaN             NaN  \n",
       "mean           0.533525   50591.865616        0.137299  \n",
       "std            0.498884   28133.817673        0.344169  \n",
       "min            0.000000       0.000000        0.000000  \n",
       "25%            0.000000   30000.000000        0.000000  \n",
       "50%            1.000000   41370.000000        0.000000  \n",
       "75%            1.000000   64000.000000        0.000000  \n",
       "max            1.000000  115000.000000        1.000000  "
      ]
     },
     "execution_count": 139,
     "metadata": {},
     "output_type": "execute_result"
    }
   ],
   "source": [
    "dataset.describe(include='all')"
   ]
  },
  {
   "cell_type": "code",
   "execution_count": 140,
   "id": "017f6cda-7b73-45d3-865b-3a807d9b4797",
   "metadata": {
    "colab": {
     "base_uri": "https://localhost:8080/",
     "height": 506
    },
    "id": "017f6cda-7b73-45d3-865b-3a807d9b4797",
    "outputId": "7fb08771-a486-4868-df98-eb220adabea7"
   },
   "outputs": [
    {
     "data": {
      "image/png": "[encoded data removed]",
      "text/plain": [
       "<Figure size 500x500 with 1 Axes>"
      ]
     },
     "metadata": {},
     "output_type": "display_data"
    }
   ],
   "source": [
    "sns.displot(data=dataset,x='msrp')\n",
    "plt.show()"
   ]
  },
  {
   "cell_type": "code",
   "execution_count": 141,
   "id": "057f5e9e-b454-4459-81f7-e14d7c4a622d",
   "metadata": {
    "colab": {
     "base_uri": "https://localhost:8080/",
     "height": 634
    },
    "id": "057f5e9e-b454-4459-81f7-e14d7c4a622d",
    "outputId": "174ed232-e469-4a49-f493-f56c42c48606"
   },
   "outputs": [
    {
     "data": {
      "text/plain": [
       "<function matplotlib.pyplot.show(close=None, block=None)>"
      ]
     },
     "execution_count": 141,
     "metadata": {},
     "output_type": "execute_result"
    }
   ],
   "source": [
    "sns.kdeplot(data=dataset,x='msrp')\n",
    "plt.show"
   ]
  },
  {
   "cell_type": "markdown",
   "id": "4bffe63b-0977-479d-9d7c-390b063dbc45",
   "metadata": {
    "id": "4bffe63b-0977-479d-9d7c-390b063dbc45"
   },
   "source": [
    "### Its slightly right skew data"
   ]
  },
  {
   "cell_type": "markdown",
   "id": "5fc35b7b-1137-418f-ab5a-eee5e0098d3d",
   "metadata": {
    "id": "5fc35b7b-1137-418f-ab5a-eee5e0098d3d"
   },
   "source": [
    "## Bivarite analysis"
   ]
  },
  {
   "cell_type": "code",
   "execution_count": 142,
   "id": "4c4334b4-334f-4914-ba13-f66f5d6a6e98",
   "metadata": {
    "colab": {
     "base_uri": "https://localhost:8080/",
     "height": 502
    },
    "id": "4c4334b4-334f-4914-ba13-f66f5d6a6e98",
    "outputId": "4e111d6e-b1af-48be-e015-308e2ea1f8da"
   },
   "outputs": [
    {
     "data": {
      "image/png": "[encoded data removed]",
      "text/plain": [
       "<Figure size 640x480 with 1 Axes>"
      ]
     },
     "metadata": {},
     "output_type": "display_data"
    }
   ],
   "source": [
    "sns.barplot(data=dataset,x='type',y='msrp')\n",
    "plt.xticks(rotation=45)\n",
    "plt.show()"
   ]
  },
  {
   "cell_type": "markdown",
   "id": "bbe21e61-afe0-4261-8631-134b739144b9",
   "metadata": {},
   "source": [
    "### From the above graph observed highest car prices are from convertible and coupe.And least price is Wagon and hatchback"
   ]
  },
  {
   "cell_type": "code",
   "execution_count": null,
   "id": "f98c147c-f8b1-44c4-bb00-2a89a28ed1e9",
   "metadata": {},
   "outputs": [],
   "source": []
  },
  {
   "cell_type": "code",
   "execution_count": 143,
   "id": "89c8a02d-8e10-4111-9a5b-3a6c3f5f9fbb",
   "metadata": {
    "scrolled": true
   },
   "outputs": [
    {
     "data": {
      "image/png": "[encoded data removed]",
      "text/plain": [
       "<Figure size 640x480 with 2 Axes>"
      ]
     },
     "metadata": {},
     "output_type": "display_data"
    }
   ],
   "source": [
    "numeric_data = dataset.select_dtypes(include=[\"int64\",\"float64\"])\n",
    "\n",
    "sns.heatmap(numeric_data.corr(),cmap=\"coolwarm\",annot=True)\n",
    "plt.show()\n"
   ]
  },
  {
   "cell_type": "markdown",
   "id": "be61bbe7-e2ce-45ec-b1ac-2dec45ce88bf",
   "metadata": {},
   "source": [
    "## from above heat map there is no high correlation between the numerical variables"
   ]
  },
  {
   "cell_type": "code",
   "execution_count": 144,
   "id": "eb3be629-4ef1-4510-8935-f66a52980714",
   "metadata": {},
   "outputs": [],
   "source": [
    "cat_col=['brand','model','type']"
   ]
  },
  {
   "cell_type": "code",
   "execution_count": 145,
   "id": "ef4b7f20-37f7-45d4-91ba-d002c818f15d",
   "metadata": {},
   "outputs": [
    {
     "name": "stdout",
     "output_type": "stream",
     "text": [
      "brand\n",
      "Ford             0.086984\n",
      "Chevrolet        0.069289\n",
      "Mercedes-Benz    0.068152\n",
      "BMW              0.067583\n",
      "Toyota           0.060939\n",
      "Audi             0.055182\n",
      "Porsche          0.047650\n",
      "Nissan           0.038873\n",
      "Lexus            0.034431\n",
      "Land             0.033685\n",
      "Dodge            0.029599\n",
      "Cadillac         0.028782\n",
      "Jeep             0.028106\n",
      "Mazda            0.023807\n",
      "Acura            0.023487\n",
      "Volkswagen       0.022741\n",
      "GMC              0.021391\n",
      "Subaru           0.020716\n",
      "Honda            0.019969\n",
      "Hyundai          0.019685\n",
      "Kia              0.018726\n",
      "Lincoln          0.016771\n",
      "INFINITI         0.016736\n",
      "RAM              0.014178\n",
      "Jaguar           0.013112\n",
      "Volvo            0.012117\n",
      "Tesla            0.010305\n",
      "Chrysler         0.009416\n",
      "Bentley          0.008421\n",
      "Maserati         0.008315\n",
      "Mitsubishi       0.008279\n",
      "Buick            0.008173\n",
      "Lamborghini      0.007924\n",
      "Genesis          0.006538\n",
      "Ferrari          0.005401\n",
      "MINI             0.005046\n",
      "Pontiac          0.004797\n",
      "Aston            0.003233\n",
      "Rolls-Royce      0.002985\n",
      "Alfa             0.002736\n",
      "Scion            0.002132\n",
      "Hummer           0.001954\n",
      "McLaren          0.001635\n",
      "FIAT             0.001563\n",
      "Saturn           0.001563\n",
      "Lotus            0.001528\n",
      "Rivian           0.001173\n",
      "Mercury          0.001030\n",
      "Lucid            0.000817\n",
      "Saab             0.000746\n",
      "Karma            0.000355\n",
      "Maybach          0.000320\n",
      "Suzuki           0.000284\n",
      "Plymouth         0.000249\n",
      "Bugatti          0.000142\n",
      "Polestar         0.000142\n",
      "smart            0.000107\n",
      "Name: proportion, dtype: float64\n",
      "model\n",
      "M3 Base                         0.002274\n",
      "Wrangler Sport                  0.001848\n",
      "M4 Base                         0.001563\n",
      "GT-R Premium                    0.001563\n",
      "911 Carrera                     0.001457\n",
      "                                  ...   \n",
      "X5 eDrive xDrive40e             0.000071\n",
      "V60 T6 R-Design Platinum        0.000071\n",
      "X5 xDrive 35i Sport Activity    0.000071\n",
      "allroad 2.7T                    0.000036\n",
      "X5 3.0i                         0.000036\n",
      "Name: proportion, Length: 1898, dtype: float64\n",
      "type\n",
      "SUV            0.354546\n",
      "Sedan          0.288704\n",
      "Coupe          0.147923\n",
      "Pickup         0.105213\n",
      "Convertible    0.046548\n",
      "Hatchback      0.026969\n",
      "Minivan        0.019436\n",
      "Van            0.010447\n",
      "Wagon          0.000213\n",
      "Name: proportion, dtype: float64\n"
     ]
    }
   ],
   "source": [
    "for col in cat_col:\n",
    "    freq_enc = dataset[col].value_counts(normalize=True)\n",
    "    print(freq_enc)\n",
    "    dataset[col] = dataset[col].map(freq_enc)\n",
    "    "
   ]
  },
  {
   "cell_type": "markdown",
   "id": "4f41a771-5d04-42c3-84bd-e91f05530999",
   "metadata": {
    "id": "4f41a771-5d04-42c3-84bd-e91f05530999"
   },
   "source": [
    "# Spliting the data into X and y"
   ]
  },
  {
   "cell_type": "code",
   "execution_count": 146,
   "id": "8195ed93-d70b-45e5-9ba5-b4416c86b1e0",
   "metadata": {
    "id": "8195ed93-d70b-45e5-9ba5-b4416c86b1e0"
   },
   "outputs": [],
   "source": [
    "#Independent Varible / Inputs / Features\n",
    "# Independent Variables (Features)\n",
    "X = dataset.drop(columns=[\"msrp\"])\n",
    "# Dependent Variable (Target)\n",
    "y = dataset[\"msrp\"]\n"
   ]
  },
  {
   "cell_type": "code",
   "execution_count": 147,
   "id": "88bf4ab9-e950-464e-ad21-96a6f45b4280",
   "metadata": {
    "colab": {
     "base_uri": "https://localhost:8080/",
     "height": 204
    },
    "id": "88bf4ab9-e950-464e-ad21-96a6f45b4280",
    "outputId": "e7feb9ca-61e8-41b2-e04f-1d53d11b72a5"
   },
   "outputs": [
    {
     "data": {
      "text/html": [
       "<div>\n",
       "<style scoped>\n",
       "    .dataframe tbody tr th:only-of-type {\n",
       "        vertical-align: middle;\n",
       "    }\n",
       "\n",
       "    .dataframe tbody tr th {\n",
       "        vertical-align: top;\n",
       "    }\n",
       "\n",
       "    .dataframe thead th {\n",
       "        text-align: right;\n",
       "    }\n",
       "</style>\n",
       "<table border=\"1\" class=\"dataframe\">\n",
       "  <thead>\n",
       "    <tr style=\"text-align: right;\">\n",
       "      <th></th>\n",
       "      <th>model_year</th>\n",
       "      <th>brand</th>\n",
       "      <th>model</th>\n",
       "      <th>type</th>\n",
       "      <th>miles_per_gallon</th>\n",
       "      <th>premium_version</th>\n",
       "      <th>collection_car</th>\n",
       "    </tr>\n",
       "  </thead>\n",
       "  <tbody>\n",
       "    <tr>\n",
       "      <th>0</th>\n",
       "      <td>2016</td>\n",
       "      <td>0.060939</td>\n",
       "      <td>0.001386</td>\n",
       "      <td>0.354546</td>\n",
       "      <td>13.0</td>\n",
       "      <td>1</td>\n",
       "      <td>0</td>\n",
       "    </tr>\n",
       "    <tr>\n",
       "      <th>1</th>\n",
       "      <td>2014</td>\n",
       "      <td>0.014178</td>\n",
       "      <td>0.000640</td>\n",
       "      <td>0.010447</td>\n",
       "      <td>15.0</td>\n",
       "      <td>0</td>\n",
       "      <td>0</td>\n",
       "    </tr>\n",
       "    <tr>\n",
       "      <th>2</th>\n",
       "      <td>2002</td>\n",
       "      <td>0.086984</td>\n",
       "      <td>0.001137</td>\n",
       "      <td>0.147923</td>\n",
       "      <td>16.0</td>\n",
       "      <td>0</td>\n",
       "      <td>0</td>\n",
       "    </tr>\n",
       "    <tr>\n",
       "      <th>3</th>\n",
       "      <td>2012</td>\n",
       "      <td>0.067583</td>\n",
       "      <td>0.000426</td>\n",
       "      <td>0.288704</td>\n",
       "      <td>27.0</td>\n",
       "      <td>1</td>\n",
       "      <td>0</td>\n",
       "    </tr>\n",
       "    <tr>\n",
       "      <th>4</th>\n",
       "      <td>2008</td>\n",
       "      <td>0.068152</td>\n",
       "      <td>0.000817</td>\n",
       "      <td>0.046548</td>\n",
       "      <td>18.0</td>\n",
       "      <td>1</td>\n",
       "      <td>1</td>\n",
       "    </tr>\n",
       "  </tbody>\n",
       "</table>\n",
       "</div>"
      ],
      "text/plain": [
       "   model_year     brand     model      type  miles_per_gallon  \\\n",
       "0        2016  0.060939  0.001386  0.354546              13.0   \n",
       "1        2014  0.014178  0.000640  0.010447              15.0   \n",
       "2        2002  0.086984  0.001137  0.147923              16.0   \n",
       "3        2012  0.067583  0.000426  0.288704              27.0   \n",
       "4        2008  0.068152  0.000817  0.046548              18.0   \n",
       "\n",
       "   premium_version  collection_car  \n",
       "0                1               0  \n",
       "1                0               0  \n",
       "2                0               0  \n",
       "3                1               0  \n",
       "4                1               1  "
      ]
     },
     "execution_count": 147,
     "metadata": {},
     "output_type": "execute_result"
    }
   ],
   "source": [
    "X.head()"
   ]
  },
  {
   "cell_type": "code",
   "execution_count": 148,
   "id": "d8fb1b89-5960-4085-aa97-cb812959069c",
   "metadata": {
    "colab": {
     "base_uri": "https://localhost:8080/",
     "height": 238
    },
    "id": "d8fb1b89-5960-4085-aa97-cb812959069c",
    "outputId": "b35cc42d-c927-4e78-f3ef-09c7b5859917"
   },
   "outputs": [
    {
     "data": {
      "text/plain": [
       "0     84900.0\n",
       "1     35000.0\n",
       "2     26250.0\n",
       "3     45000.0\n",
       "4    100000.0\n",
       "Name: msrp, dtype: float64"
      ]
     },
     "execution_count": 148,
     "metadata": {},
     "output_type": "execute_result"
    }
   ],
   "source": [
    "y.head()"
   ]
  },
  {
   "cell_type": "markdown",
   "id": "ab8e8e1b-4789-4d37-8138-4ce7833004dc",
   "metadata": {
    "id": "ab8e8e1b-4789-4d37-8138-4ce7833004dc"
   },
   "source": [
    "### The more costly among all is Convertible and less cost is Wagon"
   ]
  },
  {
   "cell_type": "code",
   "execution_count": 149,
   "id": "17609d7c-de13-48d4-a772-999c61ab6fb9",
   "metadata": {
    "colab": {
     "base_uri": "https://localhost:8080/"
    },
    "id": "17609d7c-de13-48d4-a772-999c61ab6fb9",
    "outputId": "5f42fbfd-588c-4eeb-8aed-c4aae4bc6836"
   },
   "outputs": [
    {
     "data": {
      "text/plain": [
       "Index([], dtype='object')"
      ]
     },
     "execution_count": 149,
     "metadata": {},
     "output_type": "execute_result"
    }
   ],
   "source": [
    "dataset.select_dtypes(include='object').columns"
   ]
  },
  {
   "cell_type": "markdown",
   "id": "e1933c14-4022-4bbb-87ff-4dd87d09faa8",
   "metadata": {
    "id": "e1933c14-4022-4bbb-87ff-4dd87d09faa8"
   },
   "source": [
    "## Split data in Train and Test"
   ]
  },
  {
   "cell_type": "code",
   "execution_count": 150,
   "id": "476b94c7-04fc-47d0-ba81-869cf95725be",
   "metadata": {
    "id": "476b94c7-04fc-47d0-ba81-869cf95725be"
   },
   "outputs": [],
   "source": [
    "from sklearn.model_selection import train_test_split"
   ]
  },
  {
   "cell_type": "code",
   "execution_count": 151,
   "id": "f7d6a62c-0b0e-4b68-ac00-c380c36e62cb",
   "metadata": {
    "colab": {
     "base_uri": "https://localhost:8080/"
    },
    "id": "f7d6a62c-0b0e-4b68-ac00-c380c36e62cb",
    "outputId": "4addd691-0a69-4e6b-ad17-63c8f7f016f1"
   },
   "outputs": [
    {
     "data": {
      "text/plain": [
       "(28143, 7)"
      ]
     },
     "execution_count": 151,
     "metadata": {},
     "output_type": "execute_result"
    }
   ],
   "source": [
    "X.shape\n"
   ]
  },
  {
   "cell_type": "code",
   "execution_count": 152,
   "id": "13f7c0ca-7e27-4067-9525-6083991b1337",
   "metadata": {
    "colab": {
     "base_uri": "https://localhost:8080/"
    },
    "id": "13f7c0ca-7e27-4067-9525-6083991b1337",
    "outputId": "38719e79-976b-497f-e946-0ce91ee65069"
   },
   "outputs": [
    {
     "data": {
      "text/plain": [
       "(28143,)"
      ]
     },
     "execution_count": 152,
     "metadata": {},
     "output_type": "execute_result"
    }
   ],
   "source": [
    "y.shape"
   ]
  },
  {
   "cell_type": "code",
   "execution_count": 153,
   "id": "f7e0b967-74bc-4773-8517-aed40a4fda79",
   "metadata": {
    "id": "f7e0b967-74bc-4773-8517-aed40a4fda79"
   },
   "outputs": [],
   "source": [
    "X_train, X_test, y_train, y_test = train_test_split(X, y, train_size = 0.8, random_state = 20)"
   ]
  },
  {
   "cell_type": "code",
   "execution_count": 154,
   "id": "fc5be8b9-94da-4f38-a97c-869503d06c79",
   "metadata": {
    "colab": {
     "base_uri": "https://localhost:8080/"
    },
    "id": "fc5be8b9-94da-4f38-a97c-869503d06c79",
    "outputId": "1630db23-6f4f-41a9-c18f-f5088c3b089f"
   },
   "outputs": [
    {
     "data": {
      "text/plain": [
       "(22514, 7)"
      ]
     },
     "execution_count": 154,
     "metadata": {},
     "output_type": "execute_result"
    }
   ],
   "source": [
    "X_train.shape"
   ]
  },
  {
   "cell_type": "code",
   "execution_count": 155,
   "id": "1657fad2-0ab4-4ed1-8816-6b8d8b38c8f6",
   "metadata": {
    "colab": {
     "base_uri": "https://localhost:8080/",
     "height": 419
    },
    "id": "1657fad2-0ab4-4ed1-8816-6b8d8b38c8f6",
    "outputId": "8ceede01-8aad-4f22-d29e-fab6d1f96c74"
   },
   "outputs": [
    {
     "data": {
      "text/html": [
       "<div>\n",
       "<style scoped>\n",
       "    .dataframe tbody tr th:only-of-type {\n",
       "        vertical-align: middle;\n",
       "    }\n",
       "\n",
       "    .dataframe tbody tr th {\n",
       "        vertical-align: top;\n",
       "    }\n",
       "\n",
       "    .dataframe thead th {\n",
       "        text-align: right;\n",
       "    }\n",
       "</style>\n",
       "<table border=\"1\" class=\"dataframe\">\n",
       "  <thead>\n",
       "    <tr style=\"text-align: right;\">\n",
       "      <th></th>\n",
       "      <th>model_year</th>\n",
       "      <th>brand</th>\n",
       "      <th>model</th>\n",
       "      <th>type</th>\n",
       "      <th>miles_per_gallon</th>\n",
       "      <th>premium_version</th>\n",
       "      <th>collection_car</th>\n",
       "    </tr>\n",
       "  </thead>\n",
       "  <tbody>\n",
       "    <tr>\n",
       "      <th>6955</th>\n",
       "      <td>2021</td>\n",
       "      <td>0.008315</td>\n",
       "      <td>0.000640</td>\n",
       "      <td>0.354546</td>\n",
       "      <td>22.0</td>\n",
       "      <td>1</td>\n",
       "      <td>0</td>\n",
       "    </tr>\n",
       "    <tr>\n",
       "      <th>2178</th>\n",
       "      <td>2014</td>\n",
       "      <td>0.055182</td>\n",
       "      <td>0.000391</td>\n",
       "      <td>0.288704</td>\n",
       "      <td>22.0</td>\n",
       "      <td>1</td>\n",
       "      <td>0</td>\n",
       "    </tr>\n",
       "    <tr>\n",
       "      <th>20869</th>\n",
       "      <td>2012</td>\n",
       "      <td>0.016736</td>\n",
       "      <td>0.000462</td>\n",
       "      <td>0.288704</td>\n",
       "      <td>29.0</td>\n",
       "      <td>1</td>\n",
       "      <td>0</td>\n",
       "    </tr>\n",
       "    <tr>\n",
       "      <th>7148</th>\n",
       "      <td>2020</td>\n",
       "      <td>0.028106</td>\n",
       "      <td>0.001208</td>\n",
       "      <td>0.354546</td>\n",
       "      <td>24.0</td>\n",
       "      <td>1</td>\n",
       "      <td>0</td>\n",
       "    </tr>\n",
       "    <tr>\n",
       "      <th>9047</th>\n",
       "      <td>2007</td>\n",
       "      <td>0.086984</td>\n",
       "      <td>0.000640</td>\n",
       "      <td>0.105213</td>\n",
       "      <td>15.0</td>\n",
       "      <td>0</td>\n",
       "      <td>0</td>\n",
       "    </tr>\n",
       "    <tr>\n",
       "      <th>...</th>\n",
       "      <td>...</td>\n",
       "      <td>...</td>\n",
       "      <td>...</td>\n",
       "      <td>...</td>\n",
       "      <td>...</td>\n",
       "      <td>...</td>\n",
       "      <td>...</td>\n",
       "    </tr>\n",
       "    <tr>\n",
       "      <th>23452</th>\n",
       "      <td>2010</td>\n",
       "      <td>0.060939</td>\n",
       "      <td>0.000391</td>\n",
       "      <td>0.019436</td>\n",
       "      <td>24.0</td>\n",
       "      <td>0</td>\n",
       "      <td>0</td>\n",
       "    </tr>\n",
       "    <tr>\n",
       "      <th>23775</th>\n",
       "      <td>1999</td>\n",
       "      <td>0.038873</td>\n",
       "      <td>0.001563</td>\n",
       "      <td>0.147923</td>\n",
       "      <td>20.0</td>\n",
       "      <td>1</td>\n",
       "      <td>1</td>\n",
       "    </tr>\n",
       "    <tr>\n",
       "      <th>4367</th>\n",
       "      <td>2017</td>\n",
       "      <td>0.069289</td>\n",
       "      <td>0.000640</td>\n",
       "      <td>0.105213</td>\n",
       "      <td>18.0</td>\n",
       "      <td>0</td>\n",
       "      <td>0</td>\n",
       "    </tr>\n",
       "    <tr>\n",
       "      <th>27098</th>\n",
       "      <td>1998</td>\n",
       "      <td>0.086984</td>\n",
       "      <td>0.001315</td>\n",
       "      <td>0.105213</td>\n",
       "      <td>15.0</td>\n",
       "      <td>0</td>\n",
       "      <td>0</td>\n",
       "    </tr>\n",
       "    <tr>\n",
       "      <th>15715</th>\n",
       "      <td>2018</td>\n",
       "      <td>0.067583</td>\n",
       "      <td>0.001386</td>\n",
       "      <td>0.354546</td>\n",
       "      <td>18.0</td>\n",
       "      <td>1</td>\n",
       "      <td>0</td>\n",
       "    </tr>\n",
       "  </tbody>\n",
       "</table>\n",
       "<p>22514 rows × 7 columns</p>\n",
       "</div>"
      ],
      "text/plain": [
       "       model_year     brand     model      type  miles_per_gallon  \\\n",
       "6955         2021  0.008315  0.000640  0.354546              22.0   \n",
       "2178         2014  0.055182  0.000391  0.288704              22.0   \n",
       "20869        2012  0.016736  0.000462  0.288704              29.0   \n",
       "7148         2020  0.028106  0.001208  0.354546              24.0   \n",
       "9047         2007  0.086984  0.000640  0.105213              15.0   \n",
       "...           ...       ...       ...       ...               ...   \n",
       "23452        2010  0.060939  0.000391  0.019436              24.0   \n",
       "23775        1999  0.038873  0.001563  0.147923              20.0   \n",
       "4367         2017  0.069289  0.000640  0.105213              18.0   \n",
       "27098        1998  0.086984  0.001315  0.105213              15.0   \n",
       "15715        2018  0.067583  0.001386  0.354546              18.0   \n",
       "\n",
       "       premium_version  collection_car  \n",
       "6955                 1               0  \n",
       "2178                 1               0  \n",
       "20869                1               0  \n",
       "7148                 1               0  \n",
       "9047                 0               0  \n",
       "...                ...             ...  \n",
       "23452                0               0  \n",
       "23775                1               1  \n",
       "4367                 0               0  \n",
       "27098                0               0  \n",
       "15715                1               0  \n",
       "\n",
       "[22514 rows x 7 columns]"
      ]
     },
     "execution_count": 155,
     "metadata": {},
     "output_type": "execute_result"
    }
   ],
   "source": [
    "X_train"
   ]
  },
  {
   "cell_type": "code",
   "execution_count": 156,
   "id": "0a4f0635-751f-4b8d-ab5b-678e2d81a91f",
   "metadata": {
    "id": "0a4f0635-751f-4b8d-ab5b-678e2d81a91f"
   },
   "outputs": [],
   "source": [
    "X_col=X.columns"
   ]
  },
  {
   "cell_type": "code",
   "execution_count": 157,
   "id": "247b1448-7619-4c17-a975-f3bba6ecc89a",
   "metadata": {
    "colab": {
     "base_uri": "https://localhost:8080/"
    },
    "id": "247b1448-7619-4c17-a975-f3bba6ecc89a",
    "outputId": "9bd1ecb8-b183-471e-b7ab-89efe711e457"
   },
   "outputs": [
    {
     "data": {
      "text/plain": [
       "(5629, 7)"
      ]
     },
     "execution_count": 157,
     "metadata": {},
     "output_type": "execute_result"
    }
   ],
   "source": [
    "X_test.shape"
   ]
  },
  {
   "cell_type": "markdown",
   "id": "776a4889-d78f-4151-8331-f5475df03404",
   "metadata": {
    "id": "776a4889-d78f-4151-8331-f5475df03404"
   },
   "source": [
    "### scaling"
   ]
  },
  {
   "cell_type": "code",
   "execution_count": 158,
   "id": "20c6a180-c13d-4ccc-adf7-b491d6ba979f",
   "metadata": {
    "id": "20c6a180-c13d-4ccc-adf7-b491d6ba979f"
   },
   "outputs": [],
   "source": [
    "sc= MinMaxScaler()"
   ]
  },
  {
   "cell_type": "code",
   "execution_count": 159,
   "id": "db9a0c90-1e93-440b-8a89-0b7d080bb9be",
   "metadata": {
    "id": "db9a0c90-1e93-440b-8a89-0b7d080bb9be"
   },
   "outputs": [],
   "source": [
    "X_train=sc.fit_transform(X_train)"
   ]
  },
  {
   "cell_type": "code",
   "execution_count": 160,
   "id": "010e2cb0-f1b4-47a8-ba8e-e0361b04d652",
   "metadata": {
    "id": "010e2cb0-f1b4-47a8-ba8e-e0361b04d652"
   },
   "outputs": [],
   "source": [
    "X_test=sc.transform(X_test)"
   ]
  },
  {
   "cell_type": "code",
   "execution_count": 161,
   "id": "d2aeddd9-5e82-4de1-aa53-f541ee92deeb",
   "metadata": {
    "colab": {
     "base_uri": "https://localhost:8080/"
    },
    "id": "d2aeddd9-5e82-4de1-aa53-f541ee92deeb",
    "outputId": "c6a164c0-aea6-466d-bda6-dfca5a4d4bed"
   },
   "outputs": [
    {
     "data": {
      "text/plain": [
       "array([[0.94      , 0.09447853, 0.26984127, ..., 0.09787234, 1.        ,\n",
       "        0.        ],\n",
       "       [0.8       , 0.63394683, 0.15873016, ..., 0.09787234, 1.        ,\n",
       "        0.        ],\n",
       "       [0.76      , 0.19141104, 0.19047619, ..., 0.12765957, 1.        ,\n",
       "        0.        ],\n",
       "       ...,\n",
       "       [0.86      , 0.79631902, 0.26984127, ..., 0.08085106, 0.        ,\n",
       "        0.        ],\n",
       "       [0.48      , 1.        , 0.57142857, ..., 0.06808511, 0.        ,\n",
       "        0.        ],\n",
       "       [0.88      , 0.77668712, 0.6031746 , ..., 0.08085106, 1.        ,\n",
       "        0.        ]])"
      ]
     },
     "execution_count": 161,
     "metadata": {},
     "output_type": "execute_result"
    }
   ],
   "source": [
    "X_train"
   ]
  },
  {
   "cell_type": "code",
   "execution_count": 162,
   "id": "77fdfc86-151f-43f7-bc6e-dc32b145d06a",
   "metadata": {
    "colab": {
     "base_uri": "https://localhost:8080/"
    },
    "id": "77fdfc86-151f-43f7-bc6e-dc32b145d06a",
    "outputId": "793279d3-7f20-42e5-ee88-c0220916f615"
   },
   "outputs": [
    {
     "data": {
      "text/plain": [
       "array([[0.94      , 0.09447853, 0.26984127, ..., 0.09787234, 1.        ,\n",
       "        0.        ],\n",
       "       [0.8       , 0.63394683, 0.15873016, ..., 0.09787234, 1.        ,\n",
       "        0.        ],\n",
       "       [0.76      , 0.19141104, 0.19047619, ..., 0.12765957, 1.        ,\n",
       "        0.        ],\n",
       "       ...,\n",
       "       [0.86      , 0.79631902, 0.26984127, ..., 0.08085106, 0.        ,\n",
       "        0.        ],\n",
       "       [0.48      , 1.        , 0.57142857, ..., 0.06808511, 0.        ,\n",
       "        0.        ],\n",
       "       [0.88      , 0.77668712, 0.6031746 , ..., 0.08085106, 1.        ,\n",
       "        0.        ]])"
      ]
     },
     "execution_count": 162,
     "metadata": {},
     "output_type": "execute_result"
    }
   ],
   "source": [
    "X_train"
   ]
  },
  {
   "cell_type": "markdown",
   "id": "3bca009f-b136-4981-a8d0-e441ec6863b8",
   "metadata": {
    "id": "3bca009f-b136-4981-a8d0-e441ec6863b8"
   },
   "source": [
    "### Creating the data frame for model process"
   ]
  },
  {
   "cell_type": "code",
   "execution_count": 163,
   "id": "2dbbc014-b148-4fc1-826f-271042b42319",
   "metadata": {
    "id": "2dbbc014-b148-4fc1-826f-271042b42319"
   },
   "outputs": [],
   "source": [
    "X_train=pd.DataFrame(data=X_train,columns=X_col)"
   ]
  },
  {
   "cell_type": "code",
   "execution_count": 164,
   "id": "fed7dd69-7e43-4998-bc8a-56c4a3988f2e",
   "metadata": {
    "id": "fed7dd69-7e43-4998-bc8a-56c4a3988f2e"
   },
   "outputs": [],
   "source": [
    "X_test=pd.DataFrame(data=X_test,columns=X_col)"
   ]
  },
  {
   "cell_type": "code",
   "execution_count": 165,
   "id": "8c46d86f-b42e-40dc-be6e-2536a9af1592",
   "metadata": {
    "colab": {
     "base_uri": "https://localhost:8080/",
     "height": 419
    },
    "id": "8c46d86f-b42e-40dc-be6e-2536a9af1592",
    "outputId": "add30780-c01e-4737-e98c-8bef2de0537e"
   },
   "outputs": [
    {
     "data": {
      "text/html": [
       "<div>\n",
       "<style scoped>\n",
       "    .dataframe tbody tr th:only-of-type {\n",
       "        vertical-align: middle;\n",
       "    }\n",
       "\n",
       "    .dataframe tbody tr th {\n",
       "        vertical-align: top;\n",
       "    }\n",
       "\n",
       "    .dataframe thead th {\n",
       "        text-align: right;\n",
       "    }\n",
       "</style>\n",
       "<table border=\"1\" class=\"dataframe\">\n",
       "  <thead>\n",
       "    <tr style=\"text-align: right;\">\n",
       "      <th></th>\n",
       "      <th>model_year</th>\n",
       "      <th>brand</th>\n",
       "      <th>model</th>\n",
       "      <th>type</th>\n",
       "      <th>miles_per_gallon</th>\n",
       "      <th>premium_version</th>\n",
       "      <th>collection_car</th>\n",
       "    </tr>\n",
       "  </thead>\n",
       "  <tbody>\n",
       "    <tr>\n",
       "      <th>0</th>\n",
       "      <td>0.94</td>\n",
       "      <td>0.094479</td>\n",
       "      <td>0.269841</td>\n",
       "      <td>1.000000</td>\n",
       "      <td>0.097872</td>\n",
       "      <td>1.0</td>\n",
       "      <td>0.0</td>\n",
       "    </tr>\n",
       "    <tr>\n",
       "      <th>1</th>\n",
       "      <td>0.80</td>\n",
       "      <td>0.633947</td>\n",
       "      <td>0.158730</td>\n",
       "      <td>0.814180</td>\n",
       "      <td>0.097872</td>\n",
       "      <td>1.0</td>\n",
       "      <td>0.0</td>\n",
       "    </tr>\n",
       "    <tr>\n",
       "      <th>2</th>\n",
       "      <td>0.76</td>\n",
       "      <td>0.191411</td>\n",
       "      <td>0.190476</td>\n",
       "      <td>0.814180</td>\n",
       "      <td>0.127660</td>\n",
       "      <td>1.0</td>\n",
       "      <td>0.0</td>\n",
       "    </tr>\n",
       "    <tr>\n",
       "      <th>3</th>\n",
       "      <td>0.92</td>\n",
       "      <td>0.322290</td>\n",
       "      <td>0.523810</td>\n",
       "      <td>1.000000</td>\n",
       "      <td>0.106383</td>\n",
       "      <td>1.0</td>\n",
       "      <td>0.0</td>\n",
       "    </tr>\n",
       "    <tr>\n",
       "      <th>4</th>\n",
       "      <td>0.66</td>\n",
       "      <td>1.000000</td>\n",
       "      <td>0.269841</td>\n",
       "      <td>0.296330</td>\n",
       "      <td>0.068085</td>\n",
       "      <td>0.0</td>\n",
       "      <td>0.0</td>\n",
       "    </tr>\n",
       "    <tr>\n",
       "      <th>...</th>\n",
       "      <td>...</td>\n",
       "      <td>...</td>\n",
       "      <td>...</td>\n",
       "      <td>...</td>\n",
       "      <td>...</td>\n",
       "      <td>...</td>\n",
       "      <td>...</td>\n",
       "    </tr>\n",
       "    <tr>\n",
       "      <th>22509</th>\n",
       "      <td>0.72</td>\n",
       "      <td>0.700204</td>\n",
       "      <td>0.158730</td>\n",
       "      <td>0.054252</td>\n",
       "      <td>0.106383</td>\n",
       "      <td>0.0</td>\n",
       "      <td>0.0</td>\n",
       "    </tr>\n",
       "    <tr>\n",
       "      <th>22510</th>\n",
       "      <td>0.50</td>\n",
       "      <td>0.446217</td>\n",
       "      <td>0.682540</td>\n",
       "      <td>0.416867</td>\n",
       "      <td>0.089362</td>\n",
       "      <td>1.0</td>\n",
       "      <td>1.0</td>\n",
       "    </tr>\n",
       "    <tr>\n",
       "      <th>22511</th>\n",
       "      <td>0.86</td>\n",
       "      <td>0.796319</td>\n",
       "      <td>0.269841</td>\n",
       "      <td>0.296330</td>\n",
       "      <td>0.080851</td>\n",
       "      <td>0.0</td>\n",
       "      <td>0.0</td>\n",
       "    </tr>\n",
       "    <tr>\n",
       "      <th>22512</th>\n",
       "      <td>0.48</td>\n",
       "      <td>1.000000</td>\n",
       "      <td>0.571429</td>\n",
       "      <td>0.296330</td>\n",
       "      <td>0.068085</td>\n",
       "      <td>0.0</td>\n",
       "      <td>0.0</td>\n",
       "    </tr>\n",
       "    <tr>\n",
       "      <th>22513</th>\n",
       "      <td>0.88</td>\n",
       "      <td>0.776687</td>\n",
       "      <td>0.603175</td>\n",
       "      <td>1.000000</td>\n",
       "      <td>0.080851</td>\n",
       "      <td>1.0</td>\n",
       "      <td>0.0</td>\n",
       "    </tr>\n",
       "  </tbody>\n",
       "</table>\n",
       "<p>22514 rows × 7 columns</p>\n",
       "</div>"
      ],
      "text/plain": [
       "       model_year     brand     model      type  miles_per_gallon  \\\n",
       "0            0.94  0.094479  0.269841  1.000000          0.097872   \n",
       "1            0.80  0.633947  0.158730  0.814180          0.097872   \n",
       "2            0.76  0.191411  0.190476  0.814180          0.127660   \n",
       "3            0.92  0.322290  0.523810  1.000000          0.106383   \n",
       "4            0.66  1.000000  0.269841  0.296330          0.068085   \n",
       "...           ...       ...       ...       ...               ...   \n",
       "22509        0.72  0.700204  0.158730  0.054252          0.106383   \n",
       "22510        0.50  0.446217  0.682540  0.416867          0.089362   \n",
       "22511        0.86  0.796319  0.269841  0.296330          0.080851   \n",
       "22512        0.48  1.000000  0.571429  0.296330          0.068085   \n",
       "22513        0.88  0.776687  0.603175  1.000000          0.080851   \n",
       "\n",
       "       premium_version  collection_car  \n",
       "0                  1.0             0.0  \n",
       "1                  1.0             0.0  \n",
       "2                  1.0             0.0  \n",
       "3                  1.0             0.0  \n",
       "4                  0.0             0.0  \n",
       "...                ...             ...  \n",
       "22509              0.0             0.0  \n",
       "22510              1.0             1.0  \n",
       "22511              0.0             0.0  \n",
       "22512              0.0             0.0  \n",
       "22513              1.0             0.0  \n",
       "\n",
       "[22514 rows x 7 columns]"
      ]
     },
     "execution_count": 165,
     "metadata": {},
     "output_type": "execute_result"
    }
   ],
   "source": [
    "X_train"
   ]
  },
  {
   "cell_type": "code",
   "execution_count": 166,
   "id": "4ae0a410-3892-4844-a5e4-d077792b5ce7",
   "metadata": {
    "colab": {
     "base_uri": "https://localhost:8080/",
     "height": 419
    },
    "id": "4ae0a410-3892-4844-a5e4-d077792b5ce7",
    "outputId": "080c7fbe-fd7c-4509-ac0a-c458f2d8d58f"
   },
   "outputs": [
    {
     "data": {
      "text/html": [
       "<div>\n",
       "<style scoped>\n",
       "    .dataframe tbody tr th:only-of-type {\n",
       "        vertical-align: middle;\n",
       "    }\n",
       "\n",
       "    .dataframe tbody tr th {\n",
       "        vertical-align: top;\n",
       "    }\n",
       "\n",
       "    .dataframe thead th {\n",
       "        text-align: right;\n",
       "    }\n",
       "</style>\n",
       "<table border=\"1\" class=\"dataframe\">\n",
       "  <thead>\n",
       "    <tr style=\"text-align: right;\">\n",
       "      <th></th>\n",
       "      <th>model_year</th>\n",
       "      <th>brand</th>\n",
       "      <th>model</th>\n",
       "      <th>type</th>\n",
       "      <th>miles_per_gallon</th>\n",
       "      <th>premium_version</th>\n",
       "      <th>collection_car</th>\n",
       "    </tr>\n",
       "  </thead>\n",
       "  <tbody>\n",
       "    <tr>\n",
       "      <th>0</th>\n",
       "      <td>0.92</td>\n",
       "      <td>0.776687</td>\n",
       "      <td>0.206349</td>\n",
       "      <td>1.000000</td>\n",
       "      <td>0.089362</td>\n",
       "      <td>1.0</td>\n",
       "      <td>0.0</td>\n",
       "    </tr>\n",
       "    <tr>\n",
       "      <th>1</th>\n",
       "      <td>0.80</td>\n",
       "      <td>0.191411</td>\n",
       "      <td>0.126984</td>\n",
       "      <td>0.814180</td>\n",
       "      <td>0.089362</td>\n",
       "      <td>1.0</td>\n",
       "      <td>0.0</td>\n",
       "    </tr>\n",
       "    <tr>\n",
       "      <th>2</th>\n",
       "      <td>0.56</td>\n",
       "      <td>0.228630</td>\n",
       "      <td>0.412698</td>\n",
       "      <td>1.000000</td>\n",
       "      <td>0.089362</td>\n",
       "      <td>0.0</td>\n",
       "      <td>0.0</td>\n",
       "    </tr>\n",
       "    <tr>\n",
       "      <th>3</th>\n",
       "      <td>0.82</td>\n",
       "      <td>0.386503</td>\n",
       "      <td>0.349206</td>\n",
       "      <td>1.000000</td>\n",
       "      <td>0.089362</td>\n",
       "      <td>1.0</td>\n",
       "      <td>0.0</td>\n",
       "    </tr>\n",
       "    <tr>\n",
       "      <th>4</th>\n",
       "      <td>0.88</td>\n",
       "      <td>1.000000</td>\n",
       "      <td>0.190476</td>\n",
       "      <td>1.000000</td>\n",
       "      <td>0.097872</td>\n",
       "      <td>1.0</td>\n",
       "      <td>0.0</td>\n",
       "    </tr>\n",
       "    <tr>\n",
       "      <th>...</th>\n",
       "      <td>...</td>\n",
       "      <td>...</td>\n",
       "      <td>...</td>\n",
       "      <td>...</td>\n",
       "      <td>...</td>\n",
       "      <td>...</td>\n",
       "      <td>...</td>\n",
       "    </tr>\n",
       "    <tr>\n",
       "      <th>5624</th>\n",
       "      <td>0.96</td>\n",
       "      <td>0.330061</td>\n",
       "      <td>0.285714</td>\n",
       "      <td>1.000000</td>\n",
       "      <td>0.068085</td>\n",
       "      <td>1.0</td>\n",
       "      <td>0.0</td>\n",
       "    </tr>\n",
       "    <tr>\n",
       "      <th>5625</th>\n",
       "      <td>0.66</td>\n",
       "      <td>0.237219</td>\n",
       "      <td>0.428571</td>\n",
       "      <td>0.416867</td>\n",
       "      <td>0.114894</td>\n",
       "      <td>1.0</td>\n",
       "      <td>0.0</td>\n",
       "    </tr>\n",
       "    <tr>\n",
       "      <th>5626</th>\n",
       "      <td>0.88</td>\n",
       "      <td>0.783231</td>\n",
       "      <td>0.174603</td>\n",
       "      <td>0.814180</td>\n",
       "      <td>0.102128</td>\n",
       "      <td>1.0</td>\n",
       "      <td>0.0</td>\n",
       "    </tr>\n",
       "    <tr>\n",
       "      <th>5627</th>\n",
       "      <td>0.96</td>\n",
       "      <td>0.700204</td>\n",
       "      <td>0.238095</td>\n",
       "      <td>0.416867</td>\n",
       "      <td>0.102128</td>\n",
       "      <td>0.0</td>\n",
       "      <td>0.0</td>\n",
       "    </tr>\n",
       "    <tr>\n",
       "      <th>5628</th>\n",
       "      <td>0.80</td>\n",
       "      <td>0.225358</td>\n",
       "      <td>0.126984</td>\n",
       "      <td>0.416867</td>\n",
       "      <td>0.089362</td>\n",
       "      <td>0.0</td>\n",
       "      <td>0.0</td>\n",
       "    </tr>\n",
       "  </tbody>\n",
       "</table>\n",
       "<p>5629 rows × 7 columns</p>\n",
       "</div>"
      ],
      "text/plain": [
       "      model_year     brand     model      type  miles_per_gallon  \\\n",
       "0           0.92  0.776687  0.206349  1.000000          0.089362   \n",
       "1           0.80  0.191411  0.126984  0.814180          0.089362   \n",
       "2           0.56  0.228630  0.412698  1.000000          0.089362   \n",
       "3           0.82  0.386503  0.349206  1.000000          0.089362   \n",
       "4           0.88  1.000000  0.190476  1.000000          0.097872   \n",
       "...          ...       ...       ...       ...               ...   \n",
       "5624        0.96  0.330061  0.285714  1.000000          0.068085   \n",
       "5625        0.66  0.237219  0.428571  0.416867          0.114894   \n",
       "5626        0.88  0.783231  0.174603  0.814180          0.102128   \n",
       "5627        0.96  0.700204  0.238095  0.416867          0.102128   \n",
       "5628        0.80  0.225358  0.126984  0.416867          0.089362   \n",
       "\n",
       "      premium_version  collection_car  \n",
       "0                 1.0             0.0  \n",
       "1                 1.0             0.0  \n",
       "2                 0.0             0.0  \n",
       "3                 1.0             0.0  \n",
       "4                 1.0             0.0  \n",
       "...               ...             ...  \n",
       "5624              1.0             0.0  \n",
       "5625              1.0             0.0  \n",
       "5626              1.0             0.0  \n",
       "5627              0.0             0.0  \n",
       "5628              0.0             0.0  \n",
       "\n",
       "[5629 rows x 7 columns]"
      ]
     },
     "execution_count": 166,
     "metadata": {},
     "output_type": "execute_result"
    }
   ],
   "source": [
    "X_test"
   ]
  },
  {
   "cell_type": "markdown",
   "id": "310fc1a8-4461-495c-ab7c-6d91f07c6014",
   "metadata": {
    "id": "310fc1a8-4461-495c-ab7c-6d91f07c6014"
   },
   "source": [
    "### these are the models used in this use case:\n",
    "\t1.\tLinear Regression\n",
    "\t2.\tDecision Tree Regressor\n",
    "\t3.\tKNN Regressor\n",
    "\t4.\tRandom Forest Regressor\n",
    "\t5.\tSupport Vector Regressor (SVR)\n",
    "\t6.\tXGBoost Regressor\n",
    "\n",
    "For feature selection, we use Recursive Feature Elimination (RFE) by taking feature importance from each model.\n",
    "\n",
    "For hyperparameter tuning, we use GridSearchCV and pass the parameter grid of respective model values into it.\n",
    "\n",
    "After creating the models, we evaluate them using the following regression-specific metrics:\n",
    "\n",
    "1.\tMean Absolute Error (MAE): Measures the average absolute difference between actual and predicted values, giving an overall idea of prediction error.\n",
    "  \n",
    "2.\tMean Squared Error (MSE): Computes the average squared differences between actual and predicted values, penalizing larger errors more than smaller ones.\n",
    "  \n",
    "3.\tRoot Mean Squared Error (RMSE): The square root of MSE, which makes interpretation easier as it is in the same unit as the target variable.\n",
    "  \n",
    "4.\tR-squared (R²): Determines how well the independent variables explain the variance in the dependent variable, with values closer to 1 indicating a better fit.\n",
    "  \n",
    "5.\tAdjusted R-squared: Adjusts R² for the number of predictors in the model, providing a more accurate performance measure when multiple features are involved."
   ]
  },
  {
   "cell_type": "code",
   "execution_count": 167,
   "id": "78a35b3e-2ca6-4b71-a83e-0a582b72396f",
   "metadata": {
    "id": "78a35b3e-2ca6-4b71-a83e-0a582b72396f"
   },
   "outputs": [],
   "source": [
    "models = [\n",
    "    ('Linear Regression', LinearRegression(), {}),\n",
    "    ('Decision Tree', DecisionTreeRegressor(), {\n",
    "        'regressor__max_depth': [None, 10, 20, 30],\n",
    "        'regressor__min_samples_split': [2, 5, 10]\n",
    "    }),\n",
    "    ('Random Forest', RandomForestRegressor(), {\n",
    "        'regressor__n_estimators': [50, 100, 200],\n",
    "        'regressor__max_depth': [None, 10, 20]\n",
    "    }),\n",
    "    ('AdaBoost', AdaBoostRegressor(), {\n",
    "        'regressor__n_estimators': [50, 100, 200],\n",
    "        'regressor__learning_rate': [0.01, 0.1, 1.0]\n",
    "    })\n",
    "]\n"
   ]
  },
  {
   "cell_type": "code",
   "execution_count": 168,
   "id": "231d74e2-8e8b-4fba-8b04-102e845f5c19",
   "metadata": {
    "colab": {
     "base_uri": "https://localhost:8080/",
     "height": 1000
    },
    "id": "231d74e2-8e8b-4fba-8b04-102e845f5c19",
    "outputId": "1e27aab3-825c-464f-bdf2-89209aacc1e6"
   },
   "outputs": [
    {
     "name": "stdout",
     "output_type": "stream",
     "text": [
      "\n",
      " Model: Linear Regression\n",
      "Fitting 5 folds for each of 1 candidates, totalling 5 fits\n"
     ]
    },
    {
     "name": "stderr",
     "output_type": "stream",
     "text": [
      "/opt/anaconda3/lib/python3.12/site-packages/sklearn/feature_selection/_rfe.py:300: UserWarning: Found n_features_to_select=10 > n_features=7. There will be no feature selection and all features will be kept.\n",
      "  warnings.warn(\n",
      "/opt/anaconda3/lib/python3.12/site-packages/sklearn/feature_selection/_rfe.py:300: UserWarning: Found n_features_to_select=10 > n_features=7. There will be no feature selection and all features will be kept.\n",
      "  warnings.warn(\n",
      "/opt/anaconda3/lib/python3.12/site-packages/sklearn/feature_selection/_rfe.py:300: UserWarning: Found n_features_to_select=10 > n_features=7. There will be no feature selection and all features will be kept.\n",
      "  warnings.warn(\n",
      "/opt/anaconda3/lib/python3.12/site-packages/sklearn/feature_selection/_rfe.py:300: UserWarning: Found n_features_to_select=10 > n_features=7. There will be no feature selection and all features will be kept.\n",
      "  warnings.warn(\n",
      "/opt/anaconda3/lib/python3.12/site-packages/sklearn/feature_selection/_rfe.py:300: UserWarning: Found n_features_to_select=10 > n_features=7. There will be no feature selection and all features will be kept.\n",
      "  warnings.warn(\n"
     ]
    },
    {
     "name": "stdout",
     "output_type": "stream",
     "text": [
      " Best parameters found:  {}\n",
      "📌 MAE: 15515.6307\n",
      "📌 MSE: 423065622.1312\n",
      "📌 RMSE: 20568.5591\n",
      "📌 R² Score: 0.4509\n"
     ]
    },
    {
     "data": {
      "image/png": "[encoded data removed]",
      "text/plain": [
       "<Figure size 800x600 with 1 Axes>"
      ]
     },
     "metadata": {},
     "output_type": "display_data"
    },
    {
     "name": "stdout",
     "output_type": "stream",
     "text": [
      "\n",
      " Model: Decision Tree\n",
      "Fitting 5 folds for each of 12 candidates, totalling 60 fits\n"
     ]
    },
    {
     "name": "stderr",
     "output_type": "stream",
     "text": [
      "/opt/anaconda3/lib/python3.12/site-packages/sklearn/feature_selection/_rfe.py:300: UserWarning: Found n_features_to_select=10 > n_features=7. There will be no feature selection and all features will be kept.\n",
      "  warnings.warn(\n",
      "/opt/anaconda3/lib/python3.12/site-packages/sklearn/feature_selection/_rfe.py:300: UserWarning: Found n_features_to_select=10 > n_features=7. There will be no feature selection and all features will be kept.\n",
      "  warnings.warn(\n",
      "/opt/anaconda3/lib/python3.12/site-packages/sklearn/feature_selection/_rfe.py:300: UserWarning: Found n_features_to_select=10 > n_features=7. There will be no feature selection and all features will be kept.\n",
      "  warnings.warn(\n",
      "/opt/anaconda3/lib/python3.12/site-packages/sklearn/feature_selection/_rfe.py:300: UserWarning: Found n_features_to_select=10 > n_features=7. There will be no feature selection and all features will be kept.\n",
      "  warnings.warn(\n",
      "/opt/anaconda3/lib/python3.12/site-packages/sklearn/feature_selection/_rfe.py:300: UserWarning: Found n_features_to_select=10 > n_features=7. There will be no feature selection and all features will be kept.\n",
      "  warnings.warn(\n",
      "/opt/anaconda3/lib/python3.12/site-packages/sklearn/feature_selection/_rfe.py:300: UserWarning: Found n_features_to_select=10 > n_features=7. There will be no feature selection and all features will be kept.\n",
      "  warnings.warn(\n",
      "/opt/anaconda3/lib/python3.12/site-packages/sklearn/feature_selection/_rfe.py:300: UserWarning: Found n_features_to_select=10 > n_features=7. There will be no feature selection and all features will be kept.\n",
      "  warnings.warn(\n",
      "/opt/anaconda3/lib/python3.12/site-packages/sklearn/feature_selection/_rfe.py:300: UserWarning: Found n_features_to_select=10 > n_features=7. There will be no feature selection and all features will be kept.\n",
      "  warnings.warn(\n",
      "/opt/anaconda3/lib/python3.12/site-packages/sklearn/feature_selection/_rfe.py:300: UserWarning: Found n_features_to_select=10 > n_features=7. There will be no feature selection and all features will be kept.\n",
      "  warnings.warn(\n",
      "/opt/anaconda3/lib/python3.12/site-packages/sklearn/feature_selection/_rfe.py:300: UserWarning: Found n_features_to_select=10 > n_features=7. There will be no feature selection and all features will be kept.\n",
      "  warnings.warn(\n",
      "/opt/anaconda3/lib/python3.12/site-packages/sklearn/feature_selection/_rfe.py:300: UserWarning: Found n_features_to_select=10 > n_features=7. There will be no feature selection and all features will be kept.\n",
      "  warnings.warn(\n",
      "/opt/anaconda3/lib/python3.12/site-packages/sklearn/feature_selection/_rfe.py:300: UserWarning: Found n_features_to_select=10 > n_features=7. There will be no feature selection and all features will be kept.\n",
      "  warnings.warn(\n",
      "/opt/anaconda3/lib/python3.12/site-packages/sklearn/feature_selection/_rfe.py:300: UserWarning: Found n_features_to_select=10 > n_features=7. There will be no feature selection and all features will be kept.\n",
      "  warnings.warn(\n",
      "/opt/anaconda3/lib/python3.12/site-packages/sklearn/feature_selection/_rfe.py:300: UserWarning: Found n_features_to_select=10 > n_features=7. There will be no feature selection and all features will be kept.\n",
      "  warnings.warn(\n",
      "/opt/anaconda3/lib/python3.12/site-packages/sklearn/feature_selection/_rfe.py:300: UserWarning: Found n_features_to_select=10 > n_features=7. There will be no feature selection and all features will be kept.\n",
      "  warnings.warn(\n",
      "/opt/anaconda3/lib/python3.12/site-packages/sklearn/feature_selection/_rfe.py:300: UserWarning: Found n_features_to_select=10 > n_features=7. There will be no feature selection and all features will be kept.\n",
      "  warnings.warn(\n",
      "/opt/anaconda3/lib/python3.12/site-packages/sklearn/feature_selection/_rfe.py:300: UserWarning: Found n_features_to_select=10 > n_features=7. There will be no feature selection and all features will be kept.\n",
      "  warnings.warn(\n",
      "/opt/anaconda3/lib/python3.12/site-packages/sklearn/feature_selection/_rfe.py:300: UserWarning: Found n_features_to_select=10 > n_features=7. There will be no feature selection and all features will be kept.\n",
      "  warnings.warn(\n",
      "/opt/anaconda3/lib/python3.12/site-packages/sklearn/feature_selection/_rfe.py:300: UserWarning: Found n_features_to_select=10 > n_features=7. There will be no feature selection and all features will be kept.\n",
      "  warnings.warn(\n",
      "/opt/anaconda3/lib/python3.12/site-packages/sklearn/feature_selection/_rfe.py:300: UserWarning: Found n_features_to_select=10 > n_features=7. There will be no feature selection and all features will be kept.\n",
      "  warnings.warn(\n",
      "/opt/anaconda3/lib/python3.12/site-packages/sklearn/feature_selection/_rfe.py:300: UserWarning: Found n_features_to_select=10 > n_features=7. There will be no feature selection and all features will be kept.\n",
      "  warnings.warn(\n",
      "/opt/anaconda3/lib/python3.12/site-packages/sklearn/feature_selection/_rfe.py:300: UserWarning: Found n_features_to_select=10 > n_features=7. There will be no feature selection and all features will be kept.\n",
      "  warnings.warn(\n",
      "/opt/anaconda3/lib/python3.12/site-packages/sklearn/feature_selection/_rfe.py:300: UserWarning: Found n_features_to_select=10 > n_features=7. There will be no feature selection and all features will be kept.\n",
      "  warnings.warn(\n",
      "/opt/anaconda3/lib/python3.12/site-packages/sklearn/feature_selection/_rfe.py:300: UserWarning: Found n_features_to_select=10 > n_features=7. There will be no feature selection and all features will be kept.\n",
      "  warnings.warn(\n",
      "/opt/anaconda3/lib/python3.12/site-packages/sklearn/feature_selection/_rfe.py:300: UserWarning: Found n_features_to_select=10 > n_features=7. There will be no feature selection and all features will be kept.\n",
      "  warnings.warn(\n",
      "/opt/anaconda3/lib/python3.12/site-packages/sklearn/feature_selection/_rfe.py:300: UserWarning: Found n_features_to_select=10 > n_features=7. There will be no feature selection and all features will be kept.\n",
      "  warnings.warn(\n",
      "/opt/anaconda3/lib/python3.12/site-packages/sklearn/feature_selection/_rfe.py:300: UserWarning: Found n_features_to_select=10 > n_features=7. There will be no feature selection and all features will be kept.\n",
      "  warnings.warn(\n",
      "/opt/anaconda3/lib/python3.12/site-packages/sklearn/feature_selection/_rfe.py:300: UserWarning: Found n_features_to_select=10 > n_features=7. There will be no feature selection and all features will be kept.\n",
      "  warnings.warn(\n",
      "/opt/anaconda3/lib/python3.12/site-packages/sklearn/feature_selection/_rfe.py:300: UserWarning: Found n_features_to_select=10 > n_features=7. There will be no feature selection and all features will be kept.\n",
      "  warnings.warn(\n",
      "/opt/anaconda3/lib/python3.12/site-packages/sklearn/feature_selection/_rfe.py:300: UserWarning: Found n_features_to_select=10 > n_features=7. There will be no feature selection and all features will be kept.\n",
      "  warnings.warn(\n",
      "/opt/anaconda3/lib/python3.12/site-packages/sklearn/feature_selection/_rfe.py:300: UserWarning: Found n_features_to_select=10 > n_features=7. There will be no feature selection and all features will be kept.\n",
      "  warnings.warn(\n",
      "/opt/anaconda3/lib/python3.12/site-packages/sklearn/feature_selection/_rfe.py:300: UserWarning: Found n_features_to_select=10 > n_features=7. There will be no feature selection and all features will be kept.\n",
      "  warnings.warn(\n",
      "/opt/anaconda3/lib/python3.12/site-packages/sklearn/feature_selection/_rfe.py:300: UserWarning: Found n_features_to_select=10 > n_features=7. There will be no feature selection and all features will be kept.\n",
      "  warnings.warn(\n",
      "/opt/anaconda3/lib/python3.12/site-packages/sklearn/feature_selection/_rfe.py:300: UserWarning: Found n_features_to_select=10 > n_features=7. There will be no feature selection and all features will be kept.\n",
      "  warnings.warn(\n",
      "/opt/anaconda3/lib/python3.12/site-packages/sklearn/feature_selection/_rfe.py:300: UserWarning: Found n_features_to_select=10 > n_features=7. There will be no feature selection and all features will be kept.\n",
      "  warnings.warn(\n",
      "/opt/anaconda3/lib/python3.12/site-packages/sklearn/feature_selection/_rfe.py:300: UserWarning: Found n_features_to_select=10 > n_features=7. There will be no feature selection and all features will be kept.\n",
      "  warnings.warn(\n",
      "/opt/anaconda3/lib/python3.12/site-packages/sklearn/feature_selection/_rfe.py:300: UserWarning: Found n_features_to_select=10 > n_features=7. There will be no feature selection and all features will be kept.\n",
      "  warnings.warn(\n",
      "/opt/anaconda3/lib/python3.12/site-packages/sklearn/feature_selection/_rfe.py:300: UserWarning: Found n_features_to_select=10 > n_features=7. There will be no feature selection and all features will be kept.\n",
      "  warnings.warn(\n",
      "/opt/anaconda3/lib/python3.12/site-packages/sklearn/feature_selection/_rfe.py:300: UserWarning: Found n_features_to_select=10 > n_features=7. There will be no feature selection and all features will be kept.\n",
      "  warnings.warn(\n",
      "/opt/anaconda3/lib/python3.12/site-packages/sklearn/feature_selection/_rfe.py:300: UserWarning: Found n_features_to_select=10 > n_features=7. There will be no feature selection and all features will be kept.\n",
      "  warnings.warn(\n",
      "/opt/anaconda3/lib/python3.12/site-packages/sklearn/feature_selection/_rfe.py:300: UserWarning: Found n_features_to_select=10 > n_features=7. There will be no feature selection and all features will be kept.\n",
      "  warnings.warn(\n",
      "/opt/anaconda3/lib/python3.12/site-packages/sklearn/feature_selection/_rfe.py:300: UserWarning: Found n_features_to_select=10 > n_features=7. There will be no feature selection and all features will be kept.\n",
      "  warnings.warn(\n",
      "/opt/anaconda3/lib/python3.12/site-packages/sklearn/feature_selection/_rfe.py:300: UserWarning: Found n_features_to_select=10 > n_features=7. There will be no feature selection and all features will be kept.\n",
      "  warnings.warn(\n",
      "/opt/anaconda3/lib/python3.12/site-packages/sklearn/feature_selection/_rfe.py:300: UserWarning: Found n_features_to_select=10 > n_features=7. There will be no feature selection and all features will be kept.\n",
      "  warnings.warn(\n",
      "/opt/anaconda3/lib/python3.12/site-packages/sklearn/feature_selection/_rfe.py:300: UserWarning: Found n_features_to_select=10 > n_features=7. There will be no feature selection and all features will be kept.\n",
      "  warnings.warn(\n",
      "/opt/anaconda3/lib/python3.12/site-packages/sklearn/feature_selection/_rfe.py:300: UserWarning: Found n_features_to_select=10 > n_features=7. There will be no feature selection and all features will be kept.\n",
      "  warnings.warn(\n",
      "/opt/anaconda3/lib/python3.12/site-packages/sklearn/feature_selection/_rfe.py:300: UserWarning: Found n_features_to_select=10 > n_features=7. There will be no feature selection and all features will be kept.\n",
      "  warnings.warn(\n",
      "/opt/anaconda3/lib/python3.12/site-packages/sklearn/feature_selection/_rfe.py:300: UserWarning: Found n_features_to_select=10 > n_features=7. There will be no feature selection and all features will be kept.\n",
      "  warnings.warn(\n",
      "/opt/anaconda3/lib/python3.12/site-packages/sklearn/feature_selection/_rfe.py:300: UserWarning: Found n_features_to_select=10 > n_features=7. There will be no feature selection and all features will be kept.\n",
      "  warnings.warn(\n",
      "/opt/anaconda3/lib/python3.12/site-packages/sklearn/feature_selection/_rfe.py:300: UserWarning: Found n_features_to_select=10 > n_features=7. There will be no feature selection and all features will be kept.\n",
      "  warnings.warn(\n",
      "/opt/anaconda3/lib/python3.12/site-packages/sklearn/feature_selection/_rfe.py:300: UserWarning: Found n_features_to_select=10 > n_features=7. There will be no feature selection and all features will be kept.\n",
      "  warnings.warn(\n",
      "/opt/anaconda3/lib/python3.12/site-packages/sklearn/feature_selection/_rfe.py:300: UserWarning: Found n_features_to_select=10 > n_features=7. There will be no feature selection and all features will be kept.\n",
      "  warnings.warn(\n",
      "/opt/anaconda3/lib/python3.12/site-packages/sklearn/feature_selection/_rfe.py:300: UserWarning: Found n_features_to_select=10 > n_features=7. There will be no feature selection and all features will be kept.\n",
      "  warnings.warn(\n",
      "/opt/anaconda3/lib/python3.12/site-packages/sklearn/feature_selection/_rfe.py:300: UserWarning: Found n_features_to_select=10 > n_features=7. There will be no feature selection and all features will be kept.\n",
      "  warnings.warn(\n",
      "/opt/anaconda3/lib/python3.12/site-packages/sklearn/feature_selection/_rfe.py:300: UserWarning: Found n_features_to_select=10 > n_features=7. There will be no feature selection and all features will be kept.\n",
      "  warnings.warn(\n",
      "/opt/anaconda3/lib/python3.12/site-packages/sklearn/feature_selection/_rfe.py:300: UserWarning: Found n_features_to_select=10 > n_features=7. There will be no feature selection and all features will be kept.\n",
      "  warnings.warn(\n",
      "/opt/anaconda3/lib/python3.12/site-packages/sklearn/feature_selection/_rfe.py:300: UserWarning: Found n_features_to_select=10 > n_features=7. There will be no feature selection and all features will be kept.\n",
      "  warnings.warn(\n",
      "/opt/anaconda3/lib/python3.12/site-packages/sklearn/feature_selection/_rfe.py:300: UserWarning: Found n_features_to_select=10 > n_features=7. There will be no feature selection and all features will be kept.\n",
      "  warnings.warn(\n",
      "/opt/anaconda3/lib/python3.12/site-packages/sklearn/feature_selection/_rfe.py:300: UserWarning: Found n_features_to_select=10 > n_features=7. There will be no feature selection and all features will be kept.\n",
      "  warnings.warn(\n",
      "/opt/anaconda3/lib/python3.12/site-packages/sklearn/feature_selection/_rfe.py:300: UserWarning: Found n_features_to_select=10 > n_features=7. There will be no feature selection and all features will be kept.\n",
      "  warnings.warn(\n"
     ]
    },
    {
     "name": "stdout",
     "output_type": "stream",
     "text": [
      " Best parameters found:  {'regressor__max_depth': 20, 'regressor__min_samples_split': 10}\n",
      "📌 MAE: 8478.7153\n",
      "📌 MSE: 205990553.9518\n",
      "📌 RMSE: 14352.3710\n",
      "📌 R² Score: 0.7326\n"
     ]
    },
    {
     "data": {
      "image/png": "[encoded data removed]",
      "text/plain": [
       "<Figure size 800x600 with 1 Axes>"
      ]
     },
     "metadata": {},
     "output_type": "display_data"
    },
    {
     "name": "stdout",
     "output_type": "stream",
     "text": [
      "\n",
      " Model: Random Forest\n",
      "Fitting 5 folds for each of 9 candidates, totalling 45 fits\n"
     ]
    },
    {
     "name": "stderr",
     "output_type": "stream",
     "text": [
      "/opt/anaconda3/lib/python3.12/site-packages/sklearn/feature_selection/_rfe.py:300: UserWarning: Found n_features_to_select=10 > n_features=7. There will be no feature selection and all features will be kept.\n",
      "  warnings.warn(\n",
      "/opt/anaconda3/lib/python3.12/site-packages/sklearn/feature_selection/_rfe.py:300: UserWarning: Found n_features_to_select=10 > n_features=7. There will be no feature selection and all features will be kept.\n",
      "  warnings.warn(\n",
      "/opt/anaconda3/lib/python3.12/site-packages/sklearn/feature_selection/_rfe.py:300: UserWarning: Found n_features_to_select=10 > n_features=7. There will be no feature selection and all features will be kept.\n",
      "  warnings.warn(\n",
      "/opt/anaconda3/lib/python3.12/site-packages/sklearn/feature_selection/_rfe.py:300: UserWarning: Found n_features_to_select=10 > n_features=7. There will be no feature selection and all features will be kept.\n",
      "  warnings.warn(\n",
      "/opt/anaconda3/lib/python3.12/site-packages/sklearn/feature_selection/_rfe.py:300: UserWarning: Found n_features_to_select=10 > n_features=7. There will be no feature selection and all features will be kept.\n",
      "  warnings.warn(\n",
      "/opt/anaconda3/lib/python3.12/site-packages/sklearn/feature_selection/_rfe.py:300: UserWarning: Found n_features_to_select=10 > n_features=7. There will be no feature selection and all features will be kept.\n",
      "  warnings.warn(\n",
      "/opt/anaconda3/lib/python3.12/site-packages/sklearn/feature_selection/_rfe.py:300: UserWarning: Found n_features_to_select=10 > n_features=7. There will be no feature selection and all features will be kept.\n",
      "  warnings.warn(\n",
      "/opt/anaconda3/lib/python3.12/site-packages/sklearn/feature_selection/_rfe.py:300: UserWarning: Found n_features_to_select=10 > n_features=7. There will be no feature selection and all features will be kept.\n",
      "  warnings.warn(\n",
      "/opt/anaconda3/lib/python3.12/site-packages/sklearn/feature_selection/_rfe.py:300: UserWarning: Found n_features_to_select=10 > n_features=7. There will be no feature selection and all features will be kept.\n",
      "  warnings.warn(\n",
      "/opt/anaconda3/lib/python3.12/site-packages/sklearn/feature_selection/_rfe.py:300: UserWarning: Found n_features_to_select=10 > n_features=7. There will be no feature selection and all features will be kept.\n",
      "  warnings.warn(\n",
      "/opt/anaconda3/lib/python3.12/site-packages/sklearn/feature_selection/_rfe.py:300: UserWarning: Found n_features_to_select=10 > n_features=7. There will be no feature selection and all features will be kept.\n",
      "  warnings.warn(\n",
      "/opt/anaconda3/lib/python3.12/site-packages/sklearn/feature_selection/_rfe.py:300: UserWarning: Found n_features_to_select=10 > n_features=7. There will be no feature selection and all features will be kept.\n",
      "  warnings.warn(\n",
      "/opt/anaconda3/lib/python3.12/site-packages/sklearn/feature_selection/_rfe.py:300: UserWarning: Found n_features_to_select=10 > n_features=7. There will be no feature selection and all features will be kept.\n",
      "  warnings.warn(\n",
      "/opt/anaconda3/lib/python3.12/site-packages/sklearn/feature_selection/_rfe.py:300: UserWarning: Found n_features_to_select=10 > n_features=7. There will be no feature selection and all features will be kept.\n",
      "  warnings.warn(\n",
      "/opt/anaconda3/lib/python3.12/site-packages/sklearn/feature_selection/_rfe.py:300: UserWarning: Found n_features_to_select=10 > n_features=7. There will be no feature selection and all features will be kept.\n",
      "  warnings.warn(\n",
      "/opt/anaconda3/lib/python3.12/site-packages/sklearn/feature_selection/_rfe.py:300: UserWarning: Found n_features_to_select=10 > n_features=7. There will be no feature selection and all features will be kept.\n",
      "  warnings.warn(\n",
      "/opt/anaconda3/lib/python3.12/site-packages/sklearn/feature_selection/_rfe.py:300: UserWarning: Found n_features_to_select=10 > n_features=7. There will be no feature selection and all features will be kept.\n",
      "  warnings.warn(\n",
      "/opt/anaconda3/lib/python3.12/site-packages/sklearn/feature_selection/_rfe.py:300: UserWarning: Found n_features_to_select=10 > n_features=7. There will be no feature selection and all features will be kept.\n",
      "  warnings.warn(\n",
      "/opt/anaconda3/lib/python3.12/site-packages/sklearn/feature_selection/_rfe.py:300: UserWarning: Found n_features_to_select=10 > n_features=7. There will be no feature selection and all features will be kept.\n",
      "  warnings.warn(\n"
     ]
    },
    {
     "name": "stdout",
     "output_type": "stream",
     "text": [
      "[CV] END regressor__max_depth=None, regressor__min_samples_split=2; total time=   0.1s\n",
      "[CV] END regressor__max_depth=30, regressor__min_samples_split=5; total time=   0.1s\n",
      "[CV] END regressor__max_depth=30, regressor__min_samples_split=10; total time=   0.1s\n",
      "[CV] END regressor__max_depth=None, regressor__n_estimators=50; total time=   4.5s\n",
      "[CV] END regressor__max_depth=None, regressor__n_estimators=200; total time=   8.8s\n"
     ]
    },
    {
     "name": "stderr",
     "output_type": "stream",
     "text": [
      "/opt/anaconda3/lib/python3.12/site-packages/sklearn/feature_selection/_rfe.py:300: UserWarning: Found n_features_to_select=10 > n_features=7. There will be no feature selection and all features will be kept.\n",
      "  warnings.warn(\n"
     ]
    },
    {
     "name": "stdout",
     "output_type": "stream",
     "text": [
      "[CV] END .................................................... total time=   0.0s\n",
      "[CV] END regressor__max_depth=None, regressor__min_samples_split=2; total time=   0.1s\n",
      "[CV] END regressor__max_depth=None, regressor__min_samples_split=10; total time=   0.1s\n",
      "[CV] END regressor__max_depth=10, regressor__min_samples_split=2; total time=   0.1s\n",
      "[CV] END regressor__max_depth=10, regressor__min_samples_split=2; total time=   0.1s\n",
      "[CV] END regressor__max_depth=10, regressor__min_samples_split=10; total time=   0.1s\n",
      "[CV] END regressor__max_depth=10, regressor__min_samples_split=10; total time=   0.1s\n",
      "[CV] END regressor__max_depth=20, regressor__min_samples_split=5; total time=   0.1s\n",
      "[CV] END regressor__max_depth=20, regressor__min_samples_split=5; total time=   0.1s\n",
      "[CV] END regressor__max_depth=30, regressor__min_samples_split=2; total time=   0.1s\n",
      "[CV] END regressor__max_depth=30, regressor__min_samples_split=2; total time=   0.1s\n",
      "[CV] END regressor__max_depth=None, regressor__n_estimators=50; total time=   4.4s\n",
      "[CV] END regressor__max_depth=None, regressor__n_estimators=200; total time=   9.0s\n",
      "[CV] END regressor__max_depth=None, regressor__min_samples_split=5; total time=   0.1s\n",
      "[CV] END regressor__max_depth=30, regressor__min_samples_split=5; total time=   0.1s\n",
      "[CV] END regressor__max_depth=30, regressor__min_samples_split=10; total time=   0.1s\n",
      "[CV] END regressor__max_depth=None, regressor__n_estimators=50; total time=   4.4s\n",
      "[CV] END regressor__max_depth=None, regressor__n_estimators=200; total time=   9.0s\n"
     ]
    },
    {
     "name": "stderr",
     "output_type": "stream",
     "text": [
      "/opt/anaconda3/lib/python3.12/site-packages/sklearn/feature_selection/_rfe.py:300: UserWarning: Found n_features_to_select=10 > n_features=7. There will be no feature selection and all features will be kept.\n",
      "  warnings.warn(\n",
      "/opt/anaconda3/lib/python3.12/site-packages/sklearn/feature_selection/_rfe.py:300: UserWarning: Found n_features_to_select=10 > n_features=7. There will be no feature selection and all features will be kept.\n",
      "  warnings.warn(\n",
      "/opt/anaconda3/lib/python3.12/site-packages/sklearn/feature_selection/_rfe.py:300: UserWarning: Found n_features_to_select=10 > n_features=7. There will be no feature selection and all features will be kept.\n",
      "  warnings.warn(\n",
      "/opt/anaconda3/lib/python3.12/site-packages/sklearn/feature_selection/_rfe.py:300: UserWarning: Found n_features_to_select=10 > n_features=7. There will be no feature selection and all features will be kept.\n",
      "  warnings.warn(\n",
      "/opt/anaconda3/lib/python3.12/site-packages/sklearn/feature_selection/_rfe.py:300: UserWarning: Found n_features_to_select=10 > n_features=7. There will be no feature selection and all features will be kept.\n",
      "  warnings.warn(\n"
     ]
    },
    {
     "name": "stdout",
     "output_type": "stream",
     "text": [
      "[CV] END .................................................... total time=   0.0s\n",
      "[CV] END regressor__max_depth=None, regressor__min_samples_split=5; total time=   0.1s\n",
      "[CV] END regressor__max_depth=None, regressor__min_samples_split=5; total time=   0.1s\n",
      "[CV] END regressor__max_depth=None, regressor__min_samples_split=10; total time=   0.1s\n",
      "[CV] END regressor__max_depth=10, regressor__min_samples_split=5; total time=   0.1s\n",
      "[CV] END regressor__max_depth=10, regressor__min_samples_split=10; total time=   0.1s\n",
      "[CV] END regressor__max_depth=20, regressor__min_samples_split=2; total time=   0.1s\n",
      "[CV] END regressor__max_depth=20, regressor__min_samples_split=2; total time=   0.1s\n",
      "[CV] END regressor__max_depth=20, regressor__min_samples_split=10; total time=   0.1s\n",
      "[CV] END regressor__max_depth=30, regressor__min_samples_split=2; total time=   0.1s\n",
      "[CV] END regressor__max_depth=30, regressor__min_samples_split=10; total time=   0.1s\n",
      "[CV] END regressor__max_depth=None, regressor__n_estimators=100; total time=   5.8s\n",
      "[CV] END regressor__max_depth=None, regressor__n_estimators=200; total time=   9.0s\n",
      "[CV] END .................................................... total time=   0.0s\n",
      "[CV] END regressor__max_depth=None, regressor__min_samples_split=2; total time=   0.2s\n",
      "[CV] END regressor__max_depth=None, regressor__min_samples_split=5; total time=   0.1s\n",
      "[CV] END regressor__max_depth=10, regressor__min_samples_split=2; total time=   0.1s\n",
      "[CV] END regressor__max_depth=10, regressor__min_samples_split=5; total time=   0.1s\n",
      "[CV] END regressor__max_depth=10, regressor__min_samples_split=5; total time=   0.1s\n",
      "[CV] END regressor__max_depth=20, regressor__min_samples_split=2; total time=   0.1s\n",
      "[CV] END regressor__max_depth=20, regressor__min_samples_split=2; total time=   0.1s\n",
      "[CV] END regressor__max_depth=20, regressor__min_samples_split=10; total time=   0.1s\n",
      "[CV] END regressor__max_depth=20, regressor__min_samples_split=10; total time=   0.1s\n",
      "[CV] END regressor__max_depth=30, regressor__min_samples_split=5; total time=   0.1s\n",
      "[CV] END regressor__max_depth=30, regressor__min_samples_split=10; total time=   0.1s\n",
      "[CV] END regressor__max_depth=None, regressor__n_estimators=100; total time=   5.9s\n",
      "[CV] END regressor__max_depth=None, regressor__n_estimators=200; total time=   8.9s\n"
     ]
    },
    {
     "name": "stderr",
     "output_type": "stream",
     "text": [
      "/opt/anaconda3/lib/python3.12/site-packages/sklearn/feature_selection/_rfe.py:300: UserWarning: Found n_features_to_select=10 > n_features=7. There will be no feature selection and all features will be kept.\n",
      "  warnings.warn(\n",
      "/opt/anaconda3/lib/python3.12/site-packages/sklearn/feature_selection/_rfe.py:300: UserWarning: Found n_features_to_select=10 > n_features=7. There will be no feature selection and all features will be kept.\n",
      "  warnings.warn(\n",
      "/opt/anaconda3/lib/python3.12/site-packages/sklearn/feature_selection/_rfe.py:300: UserWarning: Found n_features_to_select=10 > n_features=7. There will be no feature selection and all features will be kept.\n",
      "  warnings.warn(\n",
      "/opt/anaconda3/lib/python3.12/site-packages/sklearn/feature_selection/_rfe.py:300: UserWarning: Found n_features_to_select=10 > n_features=7. There will be no feature selection and all features will be kept.\n",
      "  warnings.warn(\n"
     ]
    },
    {
     "name": "stdout",
     "output_type": "stream",
     "text": [
      "[CV] END .................................................... total time=   0.0s\n",
      "[CV] END regressor__max_depth=None, regressor__min_samples_split=2; total time=   0.2s\n",
      "[CV] END regressor__max_depth=None, regressor__min_samples_split=10; total time=   0.1s\n",
      "[CV] END regressor__max_depth=10, regressor__min_samples_split=2; total time=   0.1s\n",
      "[CV] END regressor__max_depth=10, regressor__min_samples_split=2; total time=   0.1s\n",
      "[CV] END regressor__max_depth=10, regressor__min_samples_split=10; total time=   0.1s\n",
      "[CV] END regressor__max_depth=10, regressor__min_samples_split=10; total time=   0.1s\n",
      "[CV] END regressor__max_depth=20, regressor__min_samples_split=5; total time=   0.1s\n",
      "[CV] END regressor__max_depth=20, regressor__min_samples_split=5; total time=   0.1s\n",
      "[CV] END regressor__max_depth=30, regressor__min_samples_split=2; total time=   0.1s\n",
      "[CV] END regressor__max_depth=30, regressor__min_samples_split=10; total time=   0.1s\n",
      "[CV] END regressor__max_depth=None, regressor__n_estimators=50; total time=   4.3s\n",
      "[CV] END regressor__max_depth=None, regressor__n_estimators=100; total time=   5.9s\n",
      "[CV] END regressor__max_depth=10, regressor__n_estimators=50; total time=   3.8s\n",
      "[CV] END regressor__max_depth=10, regressor__n_estimators=100; total time=   4.3s\n"
     ]
    },
    {
     "name": "stderr",
     "output_type": "stream",
     "text": [
      "/opt/anaconda3/lib/python3.12/site-packages/sklearn/feature_selection/_rfe.py:300: UserWarning: Found n_features_to_select=10 > n_features=7. There will be no feature selection and all features will be kept.\n",
      "  warnings.warn(\n",
      "/opt/anaconda3/lib/python3.12/site-packages/sklearn/feature_selection/_rfe.py:300: UserWarning: Found n_features_to_select=10 > n_features=7. There will be no feature selection and all features will be kept.\n",
      "  warnings.warn(\n",
      "/opt/anaconda3/lib/python3.12/site-packages/sklearn/feature_selection/_rfe.py:300: UserWarning: Found n_features_to_select=10 > n_features=7. There will be no feature selection and all features will be kept.\n",
      "  warnings.warn(\n",
      "/opt/anaconda3/lib/python3.12/site-packages/sklearn/feature_selection/_rfe.py:300: UserWarning: Found n_features_to_select=10 > n_features=7. There will be no feature selection and all features will be kept.\n",
      "  warnings.warn(\n",
      "/opt/anaconda3/lib/python3.12/site-packages/sklearn/feature_selection/_rfe.py:300: UserWarning: Found n_features_to_select=10 > n_features=7. There will be no feature selection and all features will be kept.\n",
      "  warnings.warn(\n",
      "/opt/anaconda3/lib/python3.12/site-packages/sklearn/feature_selection/_rfe.py:300: UserWarning: Found n_features_to_select=10 > n_features=7. There will be no feature selection and all features will be kept.\n",
      "  warnings.warn(\n",
      "/opt/anaconda3/lib/python3.12/site-packages/sklearn/feature_selection/_rfe.py:300: UserWarning: Found n_features_to_select=10 > n_features=7. There will be no feature selection and all features will be kept.\n",
      "  warnings.warn(\n",
      "/opt/anaconda3/lib/python3.12/site-packages/sklearn/feature_selection/_rfe.py:300: UserWarning: Found n_features_to_select=10 > n_features=7. There will be no feature selection and all features will be kept.\n",
      "  warnings.warn(\n",
      "/opt/anaconda3/lib/python3.12/site-packages/sklearn/feature_selection/_rfe.py:300: UserWarning: Found n_features_to_select=10 > n_features=7. There will be no feature selection and all features will be kept.\n",
      "  warnings.warn(\n",
      "/opt/anaconda3/lib/python3.12/site-packages/sklearn/feature_selection/_rfe.py:300: UserWarning: Found n_features_to_select=10 > n_features=7. There will be no feature selection and all features will be kept.\n",
      "  warnings.warn(\n",
      "/opt/anaconda3/lib/python3.12/site-packages/sklearn/feature_selection/_rfe.py:300: UserWarning: Found n_features_to_select=10 > n_features=7. There will be no feature selection and all features will be kept.\n",
      "  warnings.warn(\n",
      "/opt/anaconda3/lib/python3.12/site-packages/sklearn/feature_selection/_rfe.py:300: UserWarning: Found n_features_to_select=10 > n_features=7. There will be no feature selection and all features will be kept.\n",
      "  warnings.warn(\n",
      "/opt/anaconda3/lib/python3.12/site-packages/sklearn/feature_selection/_rfe.py:300: UserWarning: Found n_features_to_select=10 > n_features=7. There will be no feature selection and all features will be kept.\n",
      "  warnings.warn(\n",
      "/opt/anaconda3/lib/python3.12/site-packages/sklearn/feature_selection/_rfe.py:300: UserWarning: Found n_features_to_select=10 > n_features=7. There will be no feature selection and all features will be kept.\n",
      "  warnings.warn(\n"
     ]
    },
    {
     "name": "stdout",
     "output_type": "stream",
     "text": [
      "[CV] END regressor__max_depth=None, regressor__min_samples_split=2; total time=   0.1s\n",
      "[CV] END regressor__max_depth=30, regressor__min_samples_split=2; total time=   0.1s\n",
      "[CV] END regressor__max_depth=30, regressor__min_samples_split=5; total time=   0.1s\n",
      "[CV] END regressor__max_depth=None, regressor__n_estimators=100; total time=   6.0s\n",
      "[CV] END regressor__max_depth=10, regressor__n_estimators=50; total time=   3.7s\n",
      "[CV] END regressor__max_depth=10, regressor__n_estimators=50; total time=   3.7s\n",
      "[CV] END regressor__max_depth=10, regressor__n_estimators=50; total time=   3.5s\n",
      "[CV] END regressor__max_depth=10, regressor__n_estimators=200; total time=   5.8s\n",
      "[CV] END regressor__max_depth=20, regressor__n_estimators=100; total time=   5.5s\n"
     ]
    },
    {
     "name": "stderr",
     "output_type": "stream",
     "text": [
      "/opt/anaconda3/lib/python3.12/site-packages/sklearn/feature_selection/_rfe.py:300: UserWarning: Found n_features_to_select=10 > n_features=7. There will be no feature selection and all features will be kept.\n",
      "  warnings.warn(\n",
      "/opt/anaconda3/lib/python3.12/site-packages/sklearn/feature_selection/_rfe.py:300: UserWarning: Found n_features_to_select=10 > n_features=7. There will be no feature selection and all features will be kept.\n",
      "  warnings.warn(\n"
     ]
    },
    {
     "name": "stdout",
     "output_type": "stream",
     "text": [
      "[CV] END .................................................... total time=   0.0s\n",
      "[CV] END regressor__max_depth=None, regressor__min_samples_split=5; total time=   0.1s\n",
      "[CV] END regressor__max_depth=None, regressor__min_samples_split=10; total time=   0.1s\n",
      "[CV] END regressor__max_depth=None, regressor__min_samples_split=10; total time=   0.1s\n",
      "[CV] END regressor__max_depth=10, regressor__min_samples_split=5; total time=   0.1s\n",
      "[CV] END regressor__max_depth=10, regressor__min_samples_split=5; total time=   0.1s\n",
      "[CV] END regressor__max_depth=20, regressor__min_samples_split=2; total time=   0.1s\n",
      "[CV] END regressor__max_depth=20, regressor__min_samples_split=5; total time=   0.1s\n",
      "[CV] END regressor__max_depth=20, regressor__min_samples_split=10; total time=   0.1s\n",
      "[CV] END regressor__max_depth=20, regressor__min_samples_split=10; total time=   0.1s\n",
      "[CV] END regressor__max_depth=30, regressor__min_samples_split=5; total time=   0.1s\n",
      "[CV] END regressor__max_depth=None, regressor__n_estimators=50; total time=   4.3s\n",
      "[CV] END regressor__max_depth=None, regressor__n_estimators=100; total time=   5.9s\n",
      "[CV] END regressor__max_depth=10, regressor__n_estimators=50; total time=   3.7s\n",
      "[CV] END regressor__max_depth=10, regressor__n_estimators=100; total time=   4.2s\n",
      "[CV] END regressor__max_depth=10, regressor__n_estimators=200; total time=   5.7s\n",
      "[CV] END regressor__max_depth=20, regressor__n_estimators=100; total time=   5.5s\n",
      "[CV] END regressor__max_depth=10, regressor__n_estimators=200; total time=   5.8s\n",
      "[CV] END regressor__max_depth=20, regressor__n_estimators=50; total time=   4.2s\n",
      "[CV] END regressor__max_depth=20, regressor__n_estimators=200; total time=   7.6s\n",
      "[CV] END regressor__max_depth=10, regressor__n_estimators=200; total time=   5.8s\n",
      "[CV] END regressor__max_depth=20, regressor__n_estimators=50; total time=   4.0s\n",
      "[CV] END regressor__max_depth=20, regressor__n_estimators=200; total time=   7.6s\n",
      "[CV] END regressor__max_depth=10, regressor__n_estimators=100; total time=   4.3s\n",
      "[CV] END regressor__max_depth=20, regressor__n_estimators=50; total time=   4.1s\n",
      "[CV] END regressor__max_depth=20, regressor__n_estimators=100; total time=   5.4s\n",
      "[CV] END regressor__max_depth=20, regressor__n_estimators=200; total time=   7.0s\n",
      " Best parameters found:  {'regressor__max_depth': 20, 'regressor__n_estimators': 200}\n",
      "📌 MAE: 7355.9625\n",
      "📌 MSE: 143909849.2562\n",
      "📌 RMSE: 11996.2431\n",
      "📌 R² Score: 0.8132\n"
     ]
    },
    {
     "data": {
      "image/png": "[encoded data removed]",
      "text/plain": [
       "<Figure size 800x600 with 1 Axes>"
      ]
     },
     "metadata": {},
     "output_type": "display_data"
    },
    {
     "name": "stdout",
     "output_type": "stream",
     "text": [
      "\n",
      " Model: AdaBoost\n",
      "Fitting 5 folds for each of 9 candidates, totalling 45 fits\n"
     ]
    },
    {
     "name": "stderr",
     "output_type": "stream",
     "text": [
      "/opt/anaconda3/lib/python3.12/site-packages/sklearn/feature_selection/_rfe.py:300: UserWarning: Found n_features_to_select=10 > n_features=7. There will be no feature selection and all features will be kept.\n",
      "  warnings.warn(\n",
      "/opt/anaconda3/lib/python3.12/site-packages/sklearn/feature_selection/_rfe.py:300: UserWarning: Found n_features_to_select=10 > n_features=7. There will be no feature selection and all features will be kept.\n",
      "  warnings.warn(\n",
      "/opt/anaconda3/lib/python3.12/site-packages/sklearn/feature_selection/_rfe.py:300: UserWarning: Found n_features_to_select=10 > n_features=7. There will be no feature selection and all features will be kept.\n",
      "  warnings.warn(\n",
      "/opt/anaconda3/lib/python3.12/site-packages/sklearn/feature_selection/_rfe.py:300: UserWarning: Found n_features_to_select=10 > n_features=7. There will be no feature selection and all features will be kept.\n",
      "  warnings.warn(\n",
      "/opt/anaconda3/lib/python3.12/site-packages/sklearn/feature_selection/_rfe.py:300: UserWarning: Found n_features_to_select=10 > n_features=7. There will be no feature selection and all features will be kept.\n",
      "  warnings.warn(\n",
      "/opt/anaconda3/lib/python3.12/site-packages/sklearn/feature_selection/_rfe.py:300: UserWarning: Found n_features_to_select=10 > n_features=7. There will be no feature selection and all features will be kept.\n",
      "  warnings.warn(\n",
      "/opt/anaconda3/lib/python3.12/site-packages/sklearn/feature_selection/_rfe.py:300: UserWarning: Found n_features_to_select=10 > n_features=7. There will be no feature selection and all features will be kept.\n",
      "  warnings.warn(\n",
      "/opt/anaconda3/lib/python3.12/site-packages/sklearn/feature_selection/_rfe.py:300: UserWarning: Found n_features_to_select=10 > n_features=7. There will be no feature selection and all features will be kept.\n",
      "  warnings.warn(\n",
      "/opt/anaconda3/lib/python3.12/site-packages/sklearn/feature_selection/_rfe.py:300: UserWarning: Found n_features_to_select=10 > n_features=7. There will be no feature selection and all features will be kept.\n",
      "  warnings.warn(\n",
      "/opt/anaconda3/lib/python3.12/site-packages/sklearn/feature_selection/_rfe.py:300: UserWarning: Found n_features_to_select=10 > n_features=7. There will be no feature selection and all features will be kept.\n",
      "  warnings.warn(\n",
      "/opt/anaconda3/lib/python3.12/site-packages/sklearn/feature_selection/_rfe.py:300: UserWarning: Found n_features_to_select=10 > n_features=7. There will be no feature selection and all features will be kept.\n",
      "  warnings.warn(\n",
      "/opt/anaconda3/lib/python3.12/site-packages/sklearn/feature_selection/_rfe.py:300: UserWarning: Found n_features_to_select=10 > n_features=7. There will be no feature selection and all features will be kept.\n",
      "  warnings.warn(\n",
      "/opt/anaconda3/lib/python3.12/site-packages/sklearn/feature_selection/_rfe.py:300: UserWarning: Found n_features_to_select=10 > n_features=7. There will be no feature selection and all features will be kept.\n",
      "  warnings.warn(\n",
      "/opt/anaconda3/lib/python3.12/site-packages/sklearn/feature_selection/_rfe.py:300: UserWarning: Found n_features_to_select=10 > n_features=7. There will be no feature selection and all features will be kept.\n",
      "  warnings.warn(\n",
      "/opt/anaconda3/lib/python3.12/site-packages/sklearn/feature_selection/_rfe.py:300: UserWarning: Found n_features_to_select=10 > n_features=7. There will be no feature selection and all features will be kept.\n",
      "  warnings.warn(\n",
      "/opt/anaconda3/lib/python3.12/site-packages/sklearn/feature_selection/_rfe.py:300: UserWarning: Found n_features_to_select=10 > n_features=7. There will be no feature selection and all features will be kept.\n",
      "  warnings.warn(\n",
      "/opt/anaconda3/lib/python3.12/site-packages/sklearn/feature_selection/_rfe.py:300: UserWarning: Found n_features_to_select=10 > n_features=7. There will be no feature selection and all features will be kept.\n",
      "  warnings.warn(\n",
      "/opt/anaconda3/lib/python3.12/site-packages/sklearn/feature_selection/_rfe.py:300: UserWarning: Found n_features_to_select=10 > n_features=7. There will be no feature selection and all features will be kept.\n",
      "  warnings.warn(\n",
      "/opt/anaconda3/lib/python3.12/site-packages/sklearn/feature_selection/_rfe.py:300: UserWarning: Found n_features_to_select=10 > n_features=7. There will be no feature selection and all features will be kept.\n",
      "  warnings.warn(\n",
      "/opt/anaconda3/lib/python3.12/site-packages/sklearn/feature_selection/_rfe.py:300: UserWarning: Found n_features_to_select=10 > n_features=7. There will be no feature selection and all features will be kept.\n",
      "  warnings.warn(\n",
      "/opt/anaconda3/lib/python3.12/site-packages/sklearn/feature_selection/_rfe.py:300: UserWarning: Found n_features_to_select=10 > n_features=7. There will be no feature selection and all features will be kept.\n",
      "  warnings.warn(\n",
      "/opt/anaconda3/lib/python3.12/site-packages/sklearn/feature_selection/_rfe.py:300: UserWarning: Found n_features_to_select=10 > n_features=7. There will be no feature selection and all features will be kept.\n",
      "  warnings.warn(\n",
      "/opt/anaconda3/lib/python3.12/site-packages/sklearn/feature_selection/_rfe.py:300: UserWarning: Found n_features_to_select=10 > n_features=7. There will be no feature selection and all features will be kept.\n",
      "  warnings.warn(\n",
      "/opt/anaconda3/lib/python3.12/site-packages/sklearn/feature_selection/_rfe.py:300: UserWarning: Found n_features_to_select=10 > n_features=7. There will be no feature selection and all features will be kept.\n",
      "  warnings.warn(\n",
      "/opt/anaconda3/lib/python3.12/site-packages/sklearn/feature_selection/_rfe.py:300: UserWarning: Found n_features_to_select=10 > n_features=7. There will be no feature selection and all features will be kept.\n",
      "  warnings.warn(\n",
      "/opt/anaconda3/lib/python3.12/site-packages/sklearn/feature_selection/_rfe.py:300: UserWarning: Found n_features_to_select=10 > n_features=7. There will be no feature selection and all features will be kept.\n",
      "  warnings.warn(\n",
      "/opt/anaconda3/lib/python3.12/site-packages/sklearn/feature_selection/_rfe.py:300: UserWarning: Found n_features_to_select=10 > n_features=7. There will be no feature selection and all features will be kept.\n",
      "  warnings.warn(\n",
      "/opt/anaconda3/lib/python3.12/site-packages/sklearn/feature_selection/_rfe.py:300: UserWarning: Found n_features_to_select=10 > n_features=7. There will be no feature selection and all features will be kept.\n",
      "  warnings.warn(\n",
      "/opt/anaconda3/lib/python3.12/site-packages/sklearn/feature_selection/_rfe.py:300: UserWarning: Found n_features_to_select=10 > n_features=7. There will be no feature selection and all features will be kept.\n",
      "  warnings.warn(\n",
      "/opt/anaconda3/lib/python3.12/site-packages/sklearn/feature_selection/_rfe.py:300: UserWarning: Found n_features_to_select=10 > n_features=7. There will be no feature selection and all features will be kept.\n",
      "  warnings.warn(\n",
      "/opt/anaconda3/lib/python3.12/site-packages/sklearn/feature_selection/_rfe.py:300: UserWarning: Found n_features_to_select=10 > n_features=7. There will be no feature selection and all features will be kept.\n",
      "  warnings.warn(\n",
      "/opt/anaconda3/lib/python3.12/site-packages/sklearn/feature_selection/_rfe.py:300: UserWarning: Found n_features_to_select=10 > n_features=7. There will be no feature selection and all features will be kept.\n",
      "  warnings.warn(\n",
      "/opt/anaconda3/lib/python3.12/site-packages/sklearn/feature_selection/_rfe.py:300: UserWarning: Found n_features_to_select=10 > n_features=7. There will be no feature selection and all features will be kept.\n",
      "  warnings.warn(\n",
      "/opt/anaconda3/lib/python3.12/site-packages/sklearn/feature_selection/_rfe.py:300: UserWarning: Found n_features_to_select=10 > n_features=7. There will be no feature selection and all features will be kept.\n",
      "  warnings.warn(\n",
      "/opt/anaconda3/lib/python3.12/site-packages/sklearn/feature_selection/_rfe.py:300: UserWarning: Found n_features_to_select=10 > n_features=7. There will be no feature selection and all features will be kept.\n",
      "  warnings.warn(\n",
      "/opt/anaconda3/lib/python3.12/site-packages/sklearn/feature_selection/_rfe.py:300: UserWarning: Found n_features_to_select=10 > n_features=7. There will be no feature selection and all features will be kept.\n",
      "  warnings.warn(\n",
      "/opt/anaconda3/lib/python3.12/site-packages/sklearn/feature_selection/_rfe.py:300: UserWarning: Found n_features_to_select=10 > n_features=7. There will be no feature selection and all features will be kept.\n",
      "  warnings.warn(\n",
      "/opt/anaconda3/lib/python3.12/site-packages/sklearn/feature_selection/_rfe.py:300: UserWarning: Found n_features_to_select=10 > n_features=7. There will be no feature selection and all features will be kept.\n",
      "  warnings.warn(\n",
      "/opt/anaconda3/lib/python3.12/site-packages/sklearn/feature_selection/_rfe.py:300: UserWarning: Found n_features_to_select=10 > n_features=7. There will be no feature selection and all features will be kept.\n",
      "  warnings.warn(\n",
      "/opt/anaconda3/lib/python3.12/site-packages/sklearn/feature_selection/_rfe.py:300: UserWarning: Found n_features_to_select=10 > n_features=7. There will be no feature selection and all features will be kept.\n",
      "  warnings.warn(\n",
      "/opt/anaconda3/lib/python3.12/site-packages/sklearn/feature_selection/_rfe.py:300: UserWarning: Found n_features_to_select=10 > n_features=7. There will be no feature selection and all features will be kept.\n",
      "  warnings.warn(\n",
      "/opt/anaconda3/lib/python3.12/site-packages/sklearn/feature_selection/_rfe.py:300: UserWarning: Found n_features_to_select=10 > n_features=7. There will be no feature selection and all features will be kept.\n",
      "  warnings.warn(\n",
      "/opt/anaconda3/lib/python3.12/site-packages/sklearn/feature_selection/_rfe.py:300: UserWarning: Found n_features_to_select=10 > n_features=7. There will be no feature selection and all features will be kept.\n",
      "  warnings.warn(\n",
      "/opt/anaconda3/lib/python3.12/site-packages/sklearn/feature_selection/_rfe.py:300: UserWarning: Found n_features_to_select=10 > n_features=7. There will be no feature selection and all features will be kept.\n",
      "  warnings.warn(\n",
      "/opt/anaconda3/lib/python3.12/site-packages/sklearn/feature_selection/_rfe.py:300: UserWarning: Found n_features_to_select=10 > n_features=7. There will be no feature selection and all features will be kept.\n",
      "  warnings.warn(\n"
     ]
    },
    {
     "name": "stdout",
     "output_type": "stream",
     "text": [
      " Best parameters found:  {'regressor__learning_rate': 0.1, 'regressor__n_estimators': 50}\n",
      "📌 MAE: 15839.5243\n",
      "📌 MSE: 399607266.1207\n",
      "📌 RMSE: 19990.1792\n",
      "📌 R² Score: 0.4813\n"
     ]
    },
    {
     "data": {
      "image/png": "[encoded data removed]",
      "text/plain": [
       "<Figure size 800x600 with 1 Axes>"
      ]
     },
     "metadata": {},
     "output_type": "display_data"
    },
    {
     "name": "stdout",
     "output_type": "stream",
     "text": [
      "\n",
      "Best Model: Random Forest\n",
      " Best R² Score: 0.8132\n"
     ]
    }
   ],
   "source": [
    "final = {}\n",
    "best_model_name = None\n",
    "best_model = None\n",
    "best_r2 = -np.inf\n",
    "\n",
    "for model_name, model, param_grid in models:\n",
    "    print(f\"\\n Model: {model_name}\")\n",
    "\n",
    "    pipeline = Pipeline([\n",
    "        ('feature_selection', RFE(model, n_features_to_select=10)),\n",
    "        ('regressor', model)\n",
    "    ])\n",
    "\n",
    "    grid_search = GridSearchCV(pipeline, param_grid, cv=5, scoring='r2', n_jobs=-1, verbose=2)\n",
    "\n",
    "    # Fit GridSearchCV\n",
    "    grid_search.fit(X_train, y_train)\n",
    "\n",
    "    # Predictions on train & test set\n",
    "    y_pred = grid_search.best_estimator_.predict(X_test)\n",
    "\n",
    "    # Calculate Regression Metrics\n",
    "    mae = mean_absolute_error(y_test, y_pred)\n",
    "    mse = mean_squared_error(y_test, y_pred)\n",
    "    rmse = np.sqrt(mse)\n",
    "    r2 = r2_score(y_test, y_pred)\n",
    "\n",
    "    print(\" Best parameters found: \", grid_search.best_params_)\n",
    "    print(f\"📌 MAE: {mae:.4f}\")\n",
    "    print(f\"📌 MSE: {mse:.4f}\")\n",
    "    print(f\"📌 RMSE: {rmse:.4f}\")\n",
    "    print(f\"📌 R² Score: {r2:.4f}\")\n",
    "\n",
    "    # Store R² score in dictionary for comparison\n",
    "    final[model_name] = r2\n",
    "\n",
    "    # Check if this model is the best so far\n",
    "    if r2 > best_r2:\n",
    "        best_r2 = r2\n",
    "        best_model_name = model_name\n",
    "        best_model = grid_search.best_estimator_\n",
    "\n",
    "    # Visualization: Residual Plot\n",
    "    residuals = y_test - y_pred\n",
    "    plt.figure(figsize=(8, 6))\n",
    "    sns.histplot(residuals, bins=30, kde=True, color='blue')\n",
    "    plt.xlabel(\"Residuals (y_true - y_pred)\")\n",
    "    plt.ylabel(\"Frequency\")\n",
    "    plt.title(f\"Residual Distribution for {model_name}\")\n",
    "    plt.show()\n",
    "\n",
    "# Print the best model and its R² score\n",
    "print(\"\\nBest Model:\", best_model_name)\n",
    "print(f\" Best R² Score: {best_r2:.4f}\")\n",
    "\n"
   ]
  },
  {
   "cell_type": "code",
   "execution_count": 169,
   "id": "e0dd1082-2764-4ec3-a8e3-07464bc04cf2",
   "metadata": {
    "colab": {
     "base_uri": "https://localhost:8080/"
    },
    "id": "e0dd1082-2764-4ec3-a8e3-07464bc04cf2",
    "outputId": "f74a60a3-d15e-4226-c337-8e2d53446182"
   },
   "outputs": [
    {
     "name": "stdout",
     "output_type": "stream",
     "text": [
      "Pipeline(steps=[('feature_selection',\n",
      "                 RFE(estimator=RandomForestRegressor(),\n",
      "                     n_features_to_select=10)),\n",
      "                ('regressor',\n",
      "                 RandomForestRegressor(max_depth=20, n_estimators=200))])\n",
      "0.8132032062139869\n"
     ]
    }
   ],
   "source": [
    "print(best_model)\n",
    "print(best_r2)"
   ]
  },
  {
   "cell_type": "code",
   "execution_count": 170,
   "id": "3a863e21-c332-4fc6-9134-dd0e9a7a8829",
   "metadata": {
    "colab": {
     "base_uri": "https://localhost:8080/"
    },
    "id": "3a863e21-c332-4fc6-9134-dd0e9a7a8829",
    "outputId": "57198b3a-39c0-4faa-dd03-7572fed56ebb"
   },
   "outputs": [
    {
     "name": "stdout",
     "output_type": "stream",
     "text": [
      "Best model: Random Forest\n"
     ]
    }
   ],
   "source": [
    "best_model_name = max(final, key=final.get)\n",
    "print(\"Best model:\", best_model_name)"
   ]
  },
  {
   "cell_type": "code",
   "execution_count": 171,
   "id": "d421c223-b0c8-4abe-bef6-a3a6429cbd20",
   "metadata": {
    "colab": {
     "base_uri": "https://localhost:8080/"
    },
    "id": "d421c223-b0c8-4abe-bef6-a3a6429cbd20",
    "outputId": "7694d788-fcd0-4afc-ae58-2148e8a49940"
   },
   "outputs": [
    {
     "name": "stdout",
     "output_type": "stream",
     "text": [
      "Pipeline(steps=[('feature_selection',\n",
      "                 RFE(estimator=RandomForestRegressor(),\n",
      "                     n_features_to_select=10)),\n",
      "                ('regressor',\n",
      "                 RandomForestRegressor(max_depth=20, n_estimators=200))])\n"
     ]
    }
   ],
   "source": [
    "print(best_model)"
   ]
  },
  {
   "cell_type": "code",
   "execution_count": 172,
   "id": "1364190e-d9b2-49b4-9adf-5dee002e0c62",
   "metadata": {
    "colab": {
     "base_uri": "https://localhost:8080/"
    },
    "id": "1364190e-d9b2-49b4-9adf-5dee002e0c62",
    "outputId": "a4465867-b546-4af9-837e-deb92866c0fe"
   },
   "outputs": [
    {
     "name": "stdout",
     "output_type": "stream",
     "text": [
      "Train R^2: 0.9676\n",
      "Test R^2: 0.8132\n"
     ]
    }
   ],
   "source": [
    "\n",
    "train_predictions = best_model.predict(X_train)\n",
    "train_r2 = r2_score(y_train, train_predictions)\n",
    "test_r2 = r2_score(y_test, best_model.predict(X_test))\n",
    "\n",
    "\n",
    "print(f\"Train R^2: {train_r2:.4f}\")\n",
    "print(f\"Test R^2: {test_r2:.4f}\")\n",
    "\n"
   ]
  },
  {
   "cell_type": "markdown",
   "id": "heMdf_yb2Xi6",
   "metadata": {
    "id": "heMdf_yb2Xi6"
   },
   "source": [
    "# From the r2 the model is lightly overfit"
   ]
  },
  {
   "cell_type": "code",
   "execution_count": 174,
   "id": "a1f7625a-14a5-4556-ab4a-d2cde2764940",
   "metadata": {
    "colab": {
     "base_uri": "https://localhost:8080/"
    },
    "id": "a1f7625a-14a5-4556-ab4a-d2cde2764940",
    "outputId": "cea8406f-2a76-457a-8f95-a1a96f58be3a"
   },
   "outputs": [
    {
     "name": "stdout",
     "output_type": "stream",
     "text": [
      "Predictions: [38462.]\n",
      "[CV] END regressor__learning_rate=0.01, regressor__n_estimators=100; total time=   1.7s\n",
      "[CV] END regressor__learning_rate=0.1, regressor__n_estimators=50; total time=   1.0s\n",
      "[CV] END regressor__learning_rate=0.1, regressor__n_estimators=50; total time=   1.0s\n",
      "[CV] END regressor__learning_rate=0.1, regressor__n_estimators=100; total time=   1.5s\n",
      "[CV] END regressor__learning_rate=1.0, regressor__n_estimators=50; total time=   1.1s\n",
      "[CV] END regressor__learning_rate=1.0, regressor__n_estimators=50; total time=   0.9s\n",
      "[CV] END regressor__learning_rate=1.0, regressor__n_estimators=100; total time=   0.8s\n"
     ]
    }
   ],
   "source": [
    "sample_data = pd.DataFrame({\n",
    "    'model_year': [2018],\n",
    "    'brand': ['Mercedes-Benz'],\n",
    "    'model': ['E-Class'],\n",
    "    'type': ['Sedan'],\n",
    "    'miles_per_gallon': [25],\n",
    "    'premium_version': [1],\n",
    "    'collection_car': [0]\n",
    "})\n",
    "\n",
    "cat_col=['brand','model','type']\n",
    "for col in cat_col:\n",
    "    freq_enc = X_train[col].value_counts(normalize=True)\n",
    "    sample_data[col] = sample_data[col].map(freq_enc)\n",
    "    sample_data[col] = sample_data[col].fillna(0)\n",
    "\n",
    "sample_data = sc.transform(sample_data)\n",
    "sample_data = pd.DataFrame(data=sample_data,columns=X_col)\n",
    "\n",
    "predictions = best_model.predict(sample_data)\n",
    "np.set_printoptions(precision=3)\n",
    "\n",
    "print(\"Predictions:\", predictions)"
   ]
  },
  {
   "cell_type": "code",
   "execution_count": null,
   "id": "8b78a80c-6f3c-4e12-8177-3a286cb3afce",
   "metadata": {
    "id": "8b78a80c-6f3c-4e12-8177-3a286cb3afce"
   },
   "outputs": [],
   "source": []
  },
  {
   "cell_type": "code",
   "execution_count": null,
   "id": "6cb01be1-66e4-4d28-815c-0175be7adad3",
   "metadata": {
    "id": "6cb01be1-66e4-4d28-815c-0175be7adad3"
   },
   "outputs": [],
   "source": []
  },
  {
   "cell_type": "code",
   "execution_count": null,
   "id": "74b29db0-b4dc-46d7-b8cc-eb86afa1854a",
   "metadata": {
    "id": "74b29db0-b4dc-46d7-b8cc-eb86afa1854a"
   },
   "outputs": [],
   "source": []
  },
  {
   "cell_type": "code",
   "execution_count": null,
   "id": "16a2426c-7379-46bd-85a6-290076fb371a",
   "metadata": {},
   "outputs": [],
   "source": []
  },
  {
   "cell_type": "code",
   "execution_count": null,
   "id": "94a4d390-b4ad-490a-ac77-6b43e49d7279",
   "metadata": {},
   "outputs": [],
   "source": []
  },
  {
   "cell_type": "code",
   "execution_count": null,
   "id": "928af538-c3ce-4043-a86e-7ccdc25ff15c",
   "metadata": {},
   "outputs": [],
   "source": []
  },
  {
   "cell_type": "code",
   "execution_count": null,
   "id": "0bdde995-1aad-44d8-b0e0-396497dbb7a1",
   "metadata": {},
   "outputs": [],
   "source": []
  },
  {
   "cell_type": "code",
   "execution_count": null,
   "id": "56168fe7-8d14-4779-93ae-c1e120580300",
   "metadata": {},
   "outputs": [],
   "source": []
  },
  {
   "cell_type": "code",
   "execution_count": null,
   "id": "e2ae91bb-03b7-493e-b561-9fc004bbee91",
   "metadata": {},
   "outputs": [],
   "source": []
  },
  {
   "cell_type": "code",
   "execution_count": null,
   "id": "64611d42-3232-4d60-a264-80b0860a60c0",
   "metadata": {},
   "outputs": [],
   "source": []
  }
 ],
 "metadata": {
  "colab": {
   "provenance": []
  },
  "kernelspec": {
   "display_name": "Python 3 (ipykernel)",
   "language": "python",
   "name": "python3"
  },
  "language_info": {
   "codemirror_mode": {
    "name": "ipython",
    "version": 3
   },
   "file_extension": ".py",
   "mimetype": "text/x-python",
   "name": "python",
   "nbconvert_exporter": "python",
   "pygments_lexer": "ipython3",
   "version": "3.12.7"
  }
 },
 "nbformat": 4,
 "nbformat_minor": 5
}
